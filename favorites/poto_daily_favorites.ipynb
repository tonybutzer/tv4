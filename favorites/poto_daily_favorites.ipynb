{
 "cells": [
  {
   "cell_type": "code",
   "execution_count": 1,
   "id": "de70560b-a7e8-40fd-add2-f8cf608ce536",
   "metadata": {},
   "outputs": [],
   "source": [
    "#daily favorites\n",
    "import xmltodict\n"
   ]
  },
  {
   "cell_type": "code",
   "execution_count": 2,
   "id": "ce0449f2-b688-4bcf-9dd2-ac58c4c1d687",
   "metadata": {},
   "outputs": [],
   "source": [
    "import os\n",
    "\n",
    "# Get the path to the Downloads directory\n",
    "downloads_directory = os.path.expanduser(\"~/Downloads\")\n",
    "\n",
    "# List all files that contain \"prog\"\n",
    "prog_files = [f for f in os.listdir(downloads_directory) if \"prog\" in f]\n",
    "\n",
    "# Print the matching files\n",
    "for file in prog_files:\n",
    "    print(file)"
   ]
  },
  {
   "cell_type": "code",
   "execution_count": 3,
   "id": "b506bcb2-0b83-4b9e-8f28-7294b4eef26f",
   "metadata": {},
   "outputs": [],
   "source": [
    "def uniquify(path):\n",
    "    filename, extension = os.path.splitext(path)\n",
    "    counter = 1\n",
    "\n",
    "    while os.path.exists(path):\n",
    "        path = filename + \"__\" + str(counter) + \"_\" + extension\n",
    "        counter += 1\n",
    "\n",
    "    return path"
   ]
  },
  {
   "cell_type": "code",
   "execution_count": 4,
   "id": "a48c7f0d-aa88-40a3-af26-25097ac49982",
   "metadata": {},
   "outputs": [],
   "source": [
    "def mv_programs_to_daily_favorites(programs):\n",
    "    for program in programs:\n",
    "        program = f'/home/tony/Downloads/{program}'\n",
    "        print(program)\n",
    "        with open(program) as fd:\n",
    "            doc = xmltodict.parse(fd.read())\n",
    "        title = doc['tv-program-info']['program']['program-title']\n",
    "        print(title)\n",
    "        title = title.replace('\\'', '_')\n",
    "        title = title.replace(':', '_')\n",
    "        title = title.replace(' ', '_')\n",
    "\n",
    "        fname = title+'.daily'\n",
    "        newpath = f'/home/tony/tv/favorites/{fname}'\n",
    "        newpath = uniquify(newpath)\n",
    "        print(newpath)\n",
    "        os.rename(program,newpath)"
   ]
  },
  {
   "cell_type": "code",
   "execution_count": 5,
   "id": "8069eecc-e4b4-4382-a30f-1ef3a37743b3",
   "metadata": {},
   "outputs": [],
   "source": [
    "# mv_programs_to_daily_favorites(prog_files)"
   ]
  },
  {
   "cell_type": "code",
   "execution_count": 6,
   "id": "9c2fd059-7d7f-4c51-8344-ef90d01b7462",
   "metadata": {},
   "outputs": [
    {
     "name": "stdout",
     "output_type": "stream",
     "text": [
      "NBC_Nightly_News_with_Lester_Holt.daily\n",
      "CBS_Evening_News_with_Norah_O_Donnell.daily\n",
      "KELOLAND_News_at_Five.daily\n",
      "ABC_World_News_Tonight_with_David_Muir.daily\n"
     ]
    }
   ],
   "source": [
    "# Get the path to the Downloads directory\n",
    "downloads_directory = os.path.expanduser(\"~/tv/favorites\")\n",
    "\n",
    "# List all files that contain \"prog\"\n",
    "prog_files = [f for f in os.listdir(downloads_directory) if \".daily\" in f]\n",
    "\n",
    "# Print the matching files\n",
    "for file in prog_files:\n",
    "    print(file)"
   ]
  },
  {
   "cell_type": "code",
   "execution_count": 7,
   "id": "8dd52f94-5766-4de1-a4d8-88c638566d9d",
   "metadata": {},
   "outputs": [
    {
     "name": "stdout",
     "output_type": "stream",
     "text": [
      "NBC_Nightly_News_with_Lester_Holt.daily\n",
      "CBS_Evening_News_with_Norah_O_Donnell.daily\n",
      "KELOLAND_News_at_Five.daily\n",
      "ABC_World_News_Tonight_with_David_Muir.daily\n"
     ]
    }
   ],
   "source": [
    "for prog in prog_files:\n",
    "    print(prog)\n",
    "    prog = f'/home/tony/tv/favorites/{prog}'\n",
    "    with open(prog) as fd:\n",
    "        doc = xmltodict.parse(fd.read())"
   ]
  },
  {
   "cell_type": "code",
   "execution_count": 8,
   "id": "1208017a-bd0d-437e-8da7-392d303616d5",
   "metadata": {},
   "outputs": [
    {
     "data": {
      "text/plain": [
       "{'tv-program-info': {'@version': '1.0',\n",
       "  'program': {'station': 'KSFY-DT',\n",
       "   'tv-mode': 'digital',\n",
       "   'program-title': 'ABC World News Tonight with David Muir',\n",
       "   'program-description': 'Veteran news anchor David Muir and the ABC News Team report on the important events and headlines from across the nation and around the world.',\n",
       "   'start-date': '20241021',\n",
       "   'start-time': '22:30',\n",
       "   'end-date': '20241021',\n",
       "   'end-time': '23:00',\n",
       "   'duration': '00:30',\n",
       "   'rf-channel': '13',\n",
       "   'psip-major': '13',\n",
       "   'psip-minor': '1',\n",
       "   'stream-number': '1'}}}"
      ]
     },
     "execution_count": 8,
     "metadata": {},
     "output_type": "execute_result"
    }
   ],
   "source": [
    "doc"
   ]
  },
  {
   "cell_type": "code",
   "execution_count": 10,
   "id": "7ace422d-bf6d-43d2-99bf-e8e4d14753fb",
   "metadata": {},
   "outputs": [
    {
     "name": "stdout",
     "output_type": "stream",
     "text": [
      "<tv-program-info><@version>1.0</@version><program>{'station': 'KSFY-DT', 'tv-mode': 'digital', 'program-title': 'ABC World News Tonight with David Muir', 'program-description': 'Veteran news anchor David Muir and the ABC News Team report on the important events and headlines from across the nation and around the world.', 'start-date': '20241021', 'start-time': '22:30', 'end-date': '20241021', 'end-time': '23:00', 'duration': '00:30', 'rf-channel': '13', 'psip-major': '13', 'psip-minor': '1', 'stream-number': '1'}</program></tv-program-info>\n"
     ]
    }
   ],
   "source": [
    "import xml.etree.ElementTree as ET\n",
    "\n",
    "def dict_to_xml(tag, d):\n",
    "    elem = ET.Element(tag)\n",
    "    for key, val in d.items():\n",
    "        child = ET.SubElement(elem, key)\n",
    "        child.text = str(val)\n",
    "    return elem\n",
    "\n",
    "data = {\n",
    "    'name': 'John',\n",
    "    'age': 30,\n",
    "    'city': 'New York'\n",
    "}\n",
    "\n",
    "xml_elem = dict_to_xml('tv-program-info', doc['tv-program-info'])\n",
    "xml_str = ET.tostring(xml_elem, encoding='unicode')\n",
    "print(xml_str)"
   ]
  },
  {
   "cell_type": "code",
   "execution_count": 11,
   "id": "227116cd-e90e-4828-87a0-ce13ba419a49",
   "metadata": {},
   "outputs": [
    {
     "name": "stdout",
     "output_type": "stream",
     "text": [
      "Is today a weekday? Yes\n"
     ]
    }
   ],
   "source": [
    "import datetime\n",
    "\n",
    "# Get today's date\n",
    "today = datetime.date.today()\n",
    "\n",
    "# Check if today is a weekday (0-4: Monday to Friday)\n",
    "is_weekday = today.weekday() < 5\n",
    "\n",
    "print(f\"Is today a weekday? {'Yes' if is_weekday else 'No'}\")"
   ]
  },
  {
   "cell_type": "code",
   "execution_count": 12,
   "id": "8960c9a6-1f83-4b27-9a88-b5619aeafef2",
   "metadata": {},
   "outputs": [
    {
     "data": {
      "text/plain": [
       "datetime.date(2024, 10, 17)"
      ]
     },
     "execution_count": 12,
     "metadata": {},
     "output_type": "execute_result"
    }
   ],
   "source": [
    "today"
   ]
  },
  {
   "cell_type": "markdown",
   "id": "ee64b1ae-dab3-4b1c-8419-6ac40a234621",
   "metadata": {},
   "source": [
    "# date_obj = today\n",
    "\n",
    "# Extract year, month, and day\n",
    "year = date_obj.year\n",
    "month = date_obj.month\n",
    "day = date_obj.day\n",
    "\n",
    "print(f\"Year: {year}, Month: {month}, Day: {day}\")"
   ]
  },
  {
   "cell_type": "code",
   "execution_count": 14,
   "id": "0b376335-eac7-46da-81d2-01af1789d8e6",
   "metadata": {},
   "outputs": [],
   "source": [
    "date_str = f'{year}{month}{day}'"
   ]
  },
  {
   "cell_type": "code",
   "execution_count": 16,
   "id": "90331524-d001-4426-8af3-a1966468c4ca",
   "metadata": {},
   "outputs": [
    {
     "data": {
      "text/plain": [
       "'20241017'"
      ]
     },
     "execution_count": 16,
     "metadata": {},
     "output_type": "execute_result"
    }
   ],
   "source": [
    "date_str"
   ]
  },
  {
   "cell_type": "code",
   "execution_count": 23,
   "id": "26cd623a-1bf9-4fc7-a4af-8b0399c6fa1e",
   "metadata": {},
   "outputs": [],
   "source": [
    "doc['tv-program-info']['program']['start-date'] = date_str\n",
    "doc['tv-program-info']['program']['end-date'] = date_str"
   ]
  },
  {
   "cell_type": "code",
   "execution_count": 24,
   "id": "f6641a08-a22c-4b77-be1d-a5027d41c773",
   "metadata": {},
   "outputs": [
    {
     "data": {
      "text/plain": [
       "{'tv-program-info': {'@version': '1.0',\n",
       "  'program': {'station': 'KSFY-DT',\n",
       "   'tv-mode': 'digital',\n",
       "   'program-title': 'ABC World News Tonight with David Muir',\n",
       "   'program-description': 'Veteran news anchor David Muir and the ABC News Team report on the important events and headlines from across the nation and around the world.',\n",
       "   'start-date': '20241017',\n",
       "   'start-time': '22:30',\n",
       "   'end-date': '20241017',\n",
       "   'end-time': '23:00',\n",
       "   'duration': '00:30',\n",
       "   'rf-channel': '13',\n",
       "   'psip-major': '13',\n",
       "   'psip-minor': '1',\n",
       "   'stream-number': '1'}}}"
      ]
     },
     "execution_count": 24,
     "metadata": {},
     "output_type": "execute_result"
    }
   ],
   "source": [
    "doc"
   ]
  },
  {
   "cell_type": "code",
   "execution_count": 25,
   "id": "f18cd5d4-41bc-42d6-a071-a75b801bcbec",
   "metadata": {},
   "outputs": [
    {
     "name": "stdout",
     "output_type": "stream",
     "text": [
      "<tv-program-info><@version>1.0</@version><program>{'station': 'KSFY-DT', 'tv-mode': 'digital', 'program-title': 'ABC World News Tonight with David Muir', 'program-description': 'Veteran news anchor David Muir and the ABC News Team report on the important events and headlines from across the nation and around the world.', 'start-date': '20241017', 'start-time': '22:30', 'end-date': '20241017', 'end-time': '23:00', 'duration': '00:30', 'rf-channel': '13', 'psip-major': '13', 'psip-minor': '1', 'stream-number': '1'}</program></tv-program-info>\n"
     ]
    }
   ],
   "source": [
    "xml_elem = dict_to_xml('tv-program-info', doc['tv-program-info'])\n",
    "xml_str = ET.tostring(xml_elem, encoding='unicode')\n",
    "print(xml_str)"
   ]
  },
  {
   "cell_type": "code",
   "execution_count": 26,
   "id": "9bcef6eb-c178-494a-bd3b-166b5c5f6243",
   "metadata": {},
   "outputs": [],
   "source": [
    "import subprocess\n",
    "\n",
    "def schedule_record(program_xml, time_str):\n",
    "    cmd=f'echo ./tr.sh  {program_xml}| at -t {time_str}'\n",
    "    mycmd=subprocess.getoutput(cmd)\n",
    "    print(mycmd)\n"
   ]
  },
  {
   "cell_type": "code",
   "execution_count": 27,
   "id": "a92cca08-8b42-4b31-a7ec-efc0a313e6c3",
   "metadata": {},
   "outputs": [],
   "source": [
    "time_str = doc['tv-program-info']['program']['start-time']"
   ]
  },
  {
   "cell_type": "code",
   "execution_count": 28,
   "id": "5f73897e-7bfd-4860-b687-7fa76c719cb8",
   "metadata": {},
   "outputs": [
    {
     "name": "stdout",
     "output_type": "stream",
     "text": [
      "/home/tony/tv/favorites/ABC_World_News_Tonight_with_David_Muir.daily\n"
     ]
    }
   ],
   "source": [
    "print(prog)"
   ]
  },
  {
   "cell_type": "code",
   "execution_count": 33,
   "id": "4905c0d1-a561-43d2-a7ad-189e8cb8f471",
   "metadata": {},
   "outputs": [],
   "source": [
    "out_file = '/tmp/ABC_World_News_Tonight_with_David_Muir.daily'\n",
    "with open(out_file, 'w') as file:\n",
    "    file.write(xml_str)"
   ]
  },
  {
   "cell_type": "code",
   "execution_count": 34,
   "id": "9188f143-7df1-44fc-b248-f7d34c8d7069",
   "metadata": {},
   "outputs": [
    {
     "name": "stdout",
     "output_type": "stream",
     "text": [
      "ABC_World_News_Tonight_with_David_Muir.daily\n",
      "config-err-vuIgz6\n",
      "mintUpdate\n",
      "MozillaUpdateLock-4F96D1932A9F858E\n",
      "systemd-private-6841d4d315394a59a566c234008ec023-colord.service-SCPoU1\n",
      "systemd-private-6841d4d315394a59a566c234008ec023-ModemManager.service-fjPSrt\n",
      "systemd-private-6841d4d315394a59a566c234008ec023-systemd-logind.service-MKshOZ\n",
      "systemd-private-6841d4d315394a59a566c234008ec023-systemd-resolved.service-kTkvye\n",
      "systemd-private-6841d4d315394a59a566c234008ec023-systemd-timesyncd.service-FrIqOO\n",
      "systemd-private-6841d4d315394a59a566c234008ec023-upower.service-CDytow\n",
      "Temp-96793b41-a7d3-4bfa-b463-503f1f7ca2aa\n"
     ]
    }
   ],
   "source": [
    "!ls /tmp"
   ]
  },
  {
   "cell_type": "code",
   "execution_count": 35,
   "id": "a7e6aefa-4e45-4aad-8490-e3c5dbb988f6",
   "metadata": {},
   "outputs": [
    {
     "name": "stdout",
     "output_type": "stream",
     "text": [
      "<tv-program-info><@version>1.0</@version><program>{'station': 'KSFY-DT', 'tv-mode': 'digital', 'program-title': 'ABC World News Tonight with David Muir', 'program-description': 'Veteran news anchor David Muir and the ABC News Team report on the important events and headlines from across the nation and around the world.', 'start-date': '20241017', 'start-time': '22:30', 'end-date': '20241017', 'end-time': '23:00', 'duration': '00:30', 'rf-channel': '13', 'psip-major': '13', 'psip-minor': '1', 'stream-number': '1'}</program></tv-program-info>"
     ]
    }
   ],
   "source": [
    "! cat /tmp/ABC_World_News_Tonight_with_David_Muir.daily"
   ]
  },
  {
   "cell_type": "code",
   "execution_count": 36,
   "id": "f4d51b5f-d7e4-4c43-a866-692f38788c99",
   "metadata": {},
   "outputs": [
    {
     "name": "stdout",
     "output_type": "stream",
     "text": [
      "invalid date format: 22:30\n"
     ]
    }
   ],
   "source": [
    "#schedule_record(out_file, time_str)"
   ]
  },
  {
   "cell_type": "code",
   "execution_count": 44,
   "id": "c0a9474c-08cc-42bd-a444-be5041192d64",
   "metadata": {},
   "outputs": [],
   "source": [
    "from datetime import datetime, timezone, timedelta\n",
    "\n",
    "def _convert_gmt_local(date, time):\n",
    "        mytime = f\"{date} {time} GMT\"\n",
    "        dtobj = datetime.strptime(mytime, '%Y%m%d %H:%M %Z')\n",
    "        dtobj = dtobj.replace(tzinfo=timezone.utc)\n",
    "        #dtobj = dtobj.astimezone(ZoneInfo('US/Central')) - breaks when its CDT\n",
    "        dtobj = dtobj.astimezone()\n",
    "        a = dtobj\n",
    "        # print(a.strftime('%Y%m%d%H%M'))\n",
    "        return(a.strftime('%Y%m%d%H%M'))\n"
   ]
  },
  {
   "cell_type": "code",
   "execution_count": 45,
   "id": "23a89e95-5777-474f-96a1-0f26499aeaad",
   "metadata": {},
   "outputs": [],
   "source": [
    "start_date = doc['tv-program-info']['program']['start-date']\n",
    "time_str = _convert_gmt_local(start_date, time_str)"
   ]
  },
  {
   "cell_type": "code",
   "execution_count": 46,
   "id": "672fbad3-94dd-447c-a502-522de1b72984",
   "metadata": {},
   "outputs": [
    {
     "name": "stdout",
     "output_type": "stream",
     "text": [
      "warning: commands will be executed using /bin/sh\n",
      "job 1746 at Thu Oct 17 17:30:00 2024\n"
     ]
    }
   ],
   "source": [
    "schedule_record(out_file, time_str)"
   ]
  },
  {
   "cell_type": "code",
   "execution_count": 57,
   "id": "5314a133-82ba-4b90-b139-1c7dad1005e9",
   "metadata": {},
   "outputs": [
    {
     "name": "stdout",
     "output_type": "stream",
     "text": [
      "<root><name>John Doe</name><age>30</age><city>New York</city><hobbies>reading, traveling</hobbies></root>\n"
     ]
    }
   ],
   "source": [
    "import xml.etree.ElementTree as ET\n",
    "from xml.dom import minidom\n",
    "\n",
    "def dict_to_xml(tag, d):\n",
    "    elem = ET.Element(tag)\n",
    "    for key, val in d.items():\n",
    "        child = ET.SubElement(elem, key)\n",
    "        child.text = str(val)\n",
    "    return elem\n",
    "\n",
    "def prettify(elem):\n",
    "    \"\"\"Return a pretty-printed XML string for the Element.\"\"\"\n",
    "    #rough_string = ET.tostring(elem, 'utf-8')\n",
    "    rough_string = ET.tostring(elem, 'unicode')\n",
    "    rough_string = rough_string.replace('@','A')\n",
    "    print(rough_string)\n",
    "    reparsed = minidom.parseString(rough_string)\n",
    "    return reparsed.toprettyxml(indent=\"  \")\n",
    "\n",
    "def write_dict_to_xml(filename, dictionary, root_tag='root'):\n",
    "    xml_elem = dict_to_xml(root_tag, dictionary)\n",
    "    pretty_xml = prettify(xml_elem)\n",
    "    \n",
    "    with open(filename, 'w') as f:\n",
    "        f.write(pretty_xml)\n",
    "\n",
    "# Example usage\n",
    "data = {\n",
    "    'name': 'John Doe',\n",
    "    'age': 30,\n",
    "    'city': 'New York',\n",
    "    'hobbies': 'reading, traveling'\n",
    "}\n",
    "\n",
    "write_dict_to_xml('output.xml', data)"
   ]
  },
  {
   "cell_type": "code",
   "execution_count": 58,
   "id": "113368ad-aa65-464b-b78b-4b311f348e6e",
   "metadata": {},
   "outputs": [
    {
     "name": "stdout",
     "output_type": "stream",
     "text": [
      "<?xml version=\"1.0\" ?>\n",
      "<root>\n",
      "  <name>John Doe</name>\n",
      "  <age>30</age>\n",
      "  <city>New York</city>\n",
      "  <hobbies>reading, traveling</hobbies>\n",
      "</root>\n"
     ]
    }
   ],
   "source": [
    "! cat output.xml"
   ]
  },
  {
   "cell_type": "code",
   "execution_count": 59,
   "id": "dd745c58-4e19-44d3-992e-36165849cb7e",
   "metadata": {},
   "outputs": [
    {
     "name": "stdout",
     "output_type": "stream",
     "text": [
      "<tv-program-info><Aversion>1.0</Aversion><program>{'station': 'KSFY-DT', 'tv-mode': 'digital', 'program-title': 'ABC World News Tonight with David Muir', 'program-description': 'Veteran news anchor David Muir and the ABC News Team report on the important events and headlines from across the nation and around the world.', 'start-date': '20241017', 'start-time': '22:30', 'end-date': '20241017', 'end-time': '23:00', 'duration': '00:30', 'rf-channel': '13', 'psip-major': '13', 'psip-minor': '1', 'stream-number': '1'}</program></tv-program-info>\n",
      "<?xml version=\"1.0\" ?>\n",
      "<tv-program-info>\n",
      "  <Aversion>1.0</Aversion>\n",
      "  <program>{'station': 'KSFY-DT', 'tv-mode': 'digital', 'program-title': 'ABC World News Tonight with David Muir', 'program-description': 'Veteran news anchor David Muir and the ABC News Team report on the important events and headlines from across the nation and around the world.', 'start-date': '20241017', 'start-time': '22:30', 'end-date': '20241017', 'end-time': '23:00', 'duration': '00:30', 'rf-channel': '13', 'psip-major': '13', 'psip-minor': '1', 'stream-number': '1'}</program>\n",
      "</tv-program-info>\n",
      "\n"
     ]
    }
   ],
   "source": [
    "xml_elem = dict_to_xml('tv-program-info', doc['tv-program-info'])\n",
    "xml_str = prettify(xml_elem)\n",
    "print(xml_str)"
   ]
  },
  {
   "cell_type": "code",
   "execution_count": 60,
   "id": "fa3d346e-a0c0-4100-aa03-27bbe504f88f",
   "metadata": {},
   "outputs": [
    {
     "name": "stdout",
     "output_type": "stream",
     "text": [
      "<?xml version=\"1.0\" encoding=\"utf-8\"?>\n",
      "<tv-program-info version=\"1.0\">\n",
      "\t<program>\n",
      "\t\t<station>KSFY-DT</station>\n",
      "\t\t<tv-mode>digital</tv-mode>\n",
      "\t\t<program-title>ABC World News Tonight with David Muir</program-title>\n",
      "\t\t<program-description>Veteran news anchor David Muir and the ABC News Team report on the important events and headlines from across the nation and around the world.</program-description>\n",
      "\t\t<start-date>20241017</start-date>\n",
      "\t\t<start-time>22:30</start-time>\n",
      "\t\t<end-date>20241017</end-date>\n",
      "\t\t<end-time>23:00</end-time>\n",
      "\t\t<duration>00:30</duration>\n",
      "\t\t<rf-channel>13</rf-channel>\n",
      "\t\t<psip-major>13</psip-major>\n",
      "\t\t<psip-minor>1</psip-minor>\n",
      "\t\t<stream-number>1</stream-number>\n",
      "\t</program>\n",
      "</tv-program-info>\n"
     ]
    }
   ],
   "source": [
    "import xmltodict\n",
    "\n",
    "\n",
    "\n",
    "print(xmltodict.unparse(doc, pretty=True))"
   ]
  },
  {
   "cell_type": "code",
   "execution_count": 64,
   "id": "d324042e-a42e-4eeb-ae24-e71aa2b12274",
   "metadata": {},
   "outputs": [
    {
     "name": "stdout",
     "output_type": "stream",
     "text": [
      "<?xml version=\"1.0\" encoding=\"utf-8\"?>\n",
      "<tv-program-info version=\"1.0\">\n",
      "\t<program>\n",
      "\t\t<station>KSFY-DT</station>\n",
      "\t\t<tv-mode>digital</tv-mode>\n",
      "\t\t<program-title>ABC World News Tonight with David Muir</program-title>\n",
      "\t\t<program-description>Veteran news anchor David Muir and the ABC News Team report on the important events and headlines from across the nation and around the world.</program-description>\n",
      "\t\t<start-date>20241017</start-date>\n",
      "\t\t<start-time>22:30</start-time>\n",
      "\t\t<end-date>20241017</end-date>\n",
      "\t\t<end-time>23:00</end-time>\n",
      "\t\t<duration>00:30</duration>\n",
      "\t\t<rf-channel>13</rf-channel>\n",
      "\t\t<psip-major>13</psip-major>\n",
      "\t\t<psip-minor>1</psip-minor>\n",
      "\t\t<stream-number>1</stream-number>\n",
      "\t</program>\n",
      "</tv-program-info>\n"
     ]
    }
   ],
   "source": [
    "xml_str = xmltodict.unparse(doc, pretty=True)\n",
    "print(xml_str)"
   ]
  },
  {
   "cell_type": "code",
   "execution_count": 66,
   "id": "37ef62eb-d8ce-4bfe-9e76-1dc01ec7fc9f",
   "metadata": {},
   "outputs": [
    {
     "data": {
      "text/plain": [
       "'<?xml version=\"1.0\" encoding=\"utf-8\"?>\\n<tv-program-info version=\"1.0\">\\n\\t<program>\\n\\t\\t<station>KSFY-DT</station>\\n\\t\\t<tv-mode>digital</tv-mode>\\n\\t\\t<program-title>ABC World News Tonight with David Muir</program-title>\\n\\t\\t<program-description>Veteran news anchor David Muir and the ABC News Team report on the important events and headlines from across the nation and around the world.</program-description>\\n\\t\\t<start-date>20241017</start-date>\\n\\t\\t<start-time>22:30</start-time>\\n\\t\\t<end-date>20241017</end-date>\\n\\t\\t<end-time>23:00</end-time>\\n\\t\\t<duration>00:30</duration>\\n\\t\\t<rf-channel>13</rf-channel>\\n\\t\\t<psip-major>13</psip-major>\\n\\t\\t<psip-minor>1</psip-minor>\\n\\t\\t<stream-number>1</stream-number>\\n\\t</program>\\n</tv-program-info>'"
      ]
     },
     "execution_count": 66,
     "metadata": {},
     "output_type": "execute_result"
    }
   ],
   "source": [
    "xml_str"
   ]
  },
  {
   "cell_type": "code",
   "execution_count": 68,
   "id": "af6596b4-b9cb-4c70-8058-e8e1036e5730",
   "metadata": {},
   "outputs": [],
   "source": [
    "out_file = '/tmp/ABC_World_News_Tonight_with_David_Muir.daily'\n",
    "with open(out_file, 'w') as file:\n",
    "    file.write(xml_str)"
   ]
  },
  {
   "cell_type": "code",
   "execution_count": 69,
   "id": "e34c4509-415c-4e78-8294-2d7e341cad78",
   "metadata": {},
   "outputs": [
    {
     "name": "stdout",
     "output_type": "stream",
     "text": [
      "<?xml version=\"1.0\" encoding=\"utf-8\"?>\n",
      "<tv-program-info version=\"1.0\">\n",
      "\t<program>\n",
      "\t\t<station>KSFY-DT</station>\n",
      "\t\t<tv-mode>digital</tv-mode>\n",
      "\t\t<program-title>ABC World News Tonight with David Muir</program-title>\n",
      "\t\t<program-description>Veteran news anchor David Muir and the ABC News Team report on the important events and headlines from across the nation and around the world.</program-description>\n",
      "\t\t<start-date>20241017</start-date>\n",
      "\t\t<start-time>22:30</start-time>\n",
      "\t\t<end-date>20241017</end-date>\n",
      "\t\t<end-time>23:00</end-time>\n",
      "\t\t<duration>00:30</duration>\n",
      "\t\t<rf-channel>13</rf-channel>\n",
      "\t\t<psip-major>13</psip-major>\n",
      "\t\t<psip-minor>1</psip-minor>\n",
      "\t\t<stream-number>1</stream-number>\n",
      "\t</program>\n",
      "</tv-program-info>"
     ]
    }
   ],
   "source": [
    "! cat /tmp/ABC_World_News_Tonight_with_David_Muir.daily"
   ]
  },
  {
   "cell_type": "code",
   "execution_count": null,
   "id": "6424cf1f-a098-4682-8a95-2f1199756f88",
   "metadata": {},
   "outputs": [],
   "source": []
  }
 ],
 "metadata": {
  "kernelspec": {
   "display_name": "Python 3 (ipykernel)",
   "language": "python",
   "name": "python3"
  },
  "language_info": {
   "codemirror_mode": {
    "name": "ipython",
    "version": 3
   },
   "file_extension": ".py",
   "mimetype": "text/x-python",
   "name": "python",
   "nbconvert_exporter": "python",
   "pygments_lexer": "ipython3",
   "version": "3.10.8"
  }
 },
 "nbformat": 4,
 "nbformat_minor": 5
}
