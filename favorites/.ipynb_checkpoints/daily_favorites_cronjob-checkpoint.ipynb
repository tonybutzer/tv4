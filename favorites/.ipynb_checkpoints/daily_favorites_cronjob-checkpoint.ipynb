{
 "cells": [
  {
   "cell_type": "markdown",
   "id": "853ffdd3-72fb-42ff-92b1-fd3b07645c49",
   "metadata": {},
   "source": [
    "# daily favorites cronjob\n",
    "\n",
    "1. run daily cron at 12:01 am\n",
    "2. if its a weekday then add to todays schedule recordings"
   ]
  },
  {
   "cell_type": "code",
   "execution_count": 1,
   "id": "8006017b-5991-4e80-af1d-2d14bfa29539",
   "metadata": {},
   "outputs": [],
   "source": [
    "import os"
   ]
  },
  {
   "cell_type": "code",
   "execution_count": 2,
   "id": "ae505ac3-7191-4cb7-8846-0425a4847132",
   "metadata": {},
   "outputs": [],
   "source": [
    "from libtv.da import da_today_is_weekday, da_convert_gmt_local, da_today_date_str\n",
    "from libtv.xm import xm_get_download_files, xm_get_favorite_files\n",
    "from libtv.at import at_schedule_record\n",
    "import xmltodict"
   ]
  },
  {
   "cell_type": "code",
   "execution_count": 3,
   "id": "f8f37268-3b8f-4746-9a10-1cb408041915",
   "metadata": {},
   "outputs": [
    {
     "name": "stdout",
     "output_type": "stream",
     "text": [
      "True\n"
     ]
    }
   ],
   "source": [
    "print(da_today_is_weekday())"
   ]
  },
  {
   "cell_type": "code",
   "execution_count": 4,
   "id": "da6897f9-36ad-41bd-8197-4901bfb61967",
   "metadata": {},
   "outputs": [
    {
     "name": "stdout",
     "output_type": "stream",
     "text": [
      "[]\n"
     ]
    }
   ],
   "source": [
    "print(xm_get_download_files('prog'))"
   ]
  },
  {
   "cell_type": "code",
   "execution_count": 5,
   "id": "a9bf389b-2f8d-4910-adfc-fe4e9c0b33a3",
   "metadata": {},
   "outputs": [
    {
     "name": "stdout",
     "output_type": "stream",
     "text": [
      "NBC_Nightly_News_with_Lester_Holt.daily\n",
      "CBS_Evening_News_with_Norah_O_Donnell.daily\n",
      "KELOLAND_News_at_Five.daily\n",
      "ABC_World_News_Tonight_with_David_Muir.daily\n",
      "['/home/tony/tv/favorites/NBC_Nightly_News_with_Lester_Holt.daily', '/home/tony/tv/favorites/CBS_Evening_News_with_Norah_O_Donnell.daily', '/home/tony/tv/favorites/KELOLAND_News_at_Five.daily', '/home/tony/tv/favorites/ABC_World_News_Tonight_with_David_Muir.daily']\n"
     ]
    }
   ],
   "source": [
    "print(xm_get_favorite_files('.daily'))"
   ]
  },
  {
   "cell_type": "code",
   "execution_count": 6,
   "id": "b522656f-8ad8-484b-8b68-8e2770fc021a",
   "metadata": {},
   "outputs": [
    {
     "name": "stdout",
     "output_type": "stream",
     "text": [
      "NBC_Nightly_News_with_Lester_Holt.daily\n",
      "CBS_Evening_News_with_Norah_O_Donnell.daily\n",
      "KELOLAND_News_at_Five.daily\n",
      "ABC_World_News_Tonight_with_David_Muir.daily\n"
     ]
    }
   ],
   "source": [
    "prog_files = xm_get_favorite_files('.daily')"
   ]
  },
  {
   "cell_type": "code",
   "execution_count": 7,
   "id": "3c3858e9-165d-4aea-87f0-3132952d67ff",
   "metadata": {},
   "outputs": [
    {
     "name": "stdout",
     "output_type": "stream",
     "text": [
      "/home/tony/tv/favorites/NBC_Nightly_News_with_Lester_Holt.daily\n",
      "NBC_Nightly_News_with_Lester_Holt.daily\n",
      "warning: commands will be executed using /bin/sh\n",
      "job 1765 at Mon Oct 21 18:00:00 2024\n",
      "/home/tony/tv/favorites/CBS_Evening_News_with_Norah_O_Donnell.daily\n",
      "CBS_Evening_News_with_Norah_O_Donnell.daily\n",
      "warning: commands will be executed using /bin/sh\n",
      "job 1766 at Mon Oct 21 17:30:00 2024\n",
      "/home/tony/tv/favorites/KELOLAND_News_at_Five.daily\n",
      "KELOLAND_News_at_Five.daily\n",
      "warning: commands will be executed using /bin/sh\n",
      "job 1767 at Mon Oct 21 17:00:00 2024\n",
      "/home/tony/tv/favorites/ABC_World_News_Tonight_with_David_Muir.daily\n",
      "ABC_World_News_Tonight_with_David_Muir.daily\n",
      "warning: commands will be executed using /bin/sh\n",
      "job 1768 at Mon Oct 21 17:30:00 2024\n"
     ]
    }
   ],
   "source": [
    "DAILY='/home/tony/tv/daily'\n",
    "for prog in prog_files:\n",
    "    print(prog)\n",
    "    \n",
    "    with open(prog) as fd:\n",
    "        doc = xmltodict.parse(fd.read())\n",
    "        # print(doc)\n",
    "        start_date = doc['tv-program-info']['program']['start-date']\n",
    "        time_str = doc['tv-program-info']['program']['start-time']\n",
    "        at_time_str = da_convert_gmt_local(start_date, time_str)\n",
    "        today_date_str = da_today_date_str()\n",
    "        doc['tv-program-info']['program']['start-date'] = today_date_str\n",
    "        doc['tv-program-info']['program']['end-date'] = today_date_str\n",
    "        base_name = os.path.basename(prog)\n",
    "        print(base_name)\n",
    "        at_out_path = f'{DAILY}/{base_name}'\n",
    "        xml_str = xmltodict.unparse(doc, pretty=True)\n",
    "        with open(at_out_path, 'w') as file:\n",
    "            file.write(xml_str)\n",
    "        #print(xml_str)\n",
    "        at_schedule_record(at_out_path, at_time_str)\n",
    "        \n",
    "        "
   ]
  },
  {
   "cell_type": "code",
   "execution_count": null,
   "id": "56ddc7df-aa84-4354-b313-bf031560d674",
   "metadata": {},
   "outputs": [],
   "source": []
  }
 ],
 "metadata": {
  "kernelspec": {
   "display_name": "Python 3 (ipykernel)",
   "language": "python",
   "name": "python3"
  },
  "language_info": {
   "codemirror_mode": {
    "name": "ipython",
    "version": 3
   },
   "file_extension": ".py",
   "mimetype": "text/x-python",
   "name": "python",
   "nbconvert_exporter": "python",
   "pygments_lexer": "ipython3",
   "version": "3.10.8"
  }
 },
 "nbformat": 4,
 "nbformat_minor": 5
}
