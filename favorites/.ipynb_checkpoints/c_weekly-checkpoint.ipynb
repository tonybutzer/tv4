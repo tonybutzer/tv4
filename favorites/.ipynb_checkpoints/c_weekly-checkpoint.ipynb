{
 "cells": [
  {
   "cell_type": "code",
   "execution_count": 11,
   "id": "b1e793c9-4e2c-4959-af94-026e01e73d1d",
   "metadata": {},
   "outputs": [],
   "source": [
    "DRY=False\n",
    "\n",
    "\n",
    "import os\n",
    "\n",
    "\n",
    "from libtv.da import da_today_is_weekday, da_convert_gmt_local, da_today_date_str, da_is_same_day_of_week\n",
    "from libtv.da import da_convert_local_gmt_date, da_convert_gmt_local_date, da_convert_gmt_local_time\n",
    "from libtv.xm import xm_get_download_files, xm_get_favorite_files\n",
    "from libtv.at import at_schedule_record\n",
    "from libtv.file import file_uniquify\n",
    "import xmltodict"
   ]
  },
  {
   "cell_type": "code",
   "execution_count": 12,
   "id": "0a08ad51-772f-406a-84ba-038226ddf125",
   "metadata": {},
   "outputs": [
    {
     "name": "stdout",
     "output_type": "stream",
     "text": [
      "S.W.A.T..weekly\n",
      "48_Hours__1_.weekly\n",
      "Matlock.weekly\n",
      "FBI__Most_Wanted.weekly\n",
      "High_Potential.weekly\n",
      "NCIS__Origins.weekly\n",
      "Blue_Bloods.weekly\n",
      "FBI.weekly\n",
      "60_Minutes.weekly\n",
      "Tracker.weekly\n",
      "FBI__International.weekly\n",
      "48_Hours.weekly\n",
      "20_20.weekly\n",
      "Elsbeth.weekly\n",
      "Dateline_NBC.weekly\n",
      "Fire_Country.weekly\n",
      "CBS_News_Sunday_Morning.weekly\n"
     ]
    }
   ],
   "source": [
    "#print(xm_get_favorite_files('.weekly'))\n",
    "\n",
    "weekly_favs = xm_get_favorite_files('.weekly')\n",
    "\n",
    "#weekly_favs\n",
    "\n",
    "WEEKLY='/home/tony/tv/weekly'\n",
    "def record_me_today(fav, doc):\n",
    "    today_date_str = da_today_date_str()\n",
    "    start_date = doc['tv-program-info']['program']['start-date']\n",
    "    time_str = doc['tv-program-info']['program']['start-time']\n",
    "    at_time_str = da_convert_gmt_local(start_date, time_str)\n",
    "    local_time_str = da_convert_gmt_local_time(start_date, time_str)\n",
    "    print('AT',at_time_str)\n",
    "    gmt_today_date_str = da_convert_local_gmt_date(today_date_str, local_time_str)\n",
    "    print('hi', gmt_today_date_str, today_date_str, time_str)\n",
    "    doc['tv-program-info']['program']['start-date'] = gmt_today_date_str\n",
    "    doc['tv-program-info']['program']['end-date'] = gmt_today_date_str\n",
    "    base_name = os.path.basename(fav)\n",
    "    # print(base_name)\n",
    "    at_out_path = f'{WEEKLY}/{base_name}'\n",
    "    xml_str = xmltodict.unparse(doc, pretty=True)\n",
    "    with open(at_out_path, 'w') as file:\n",
    "        file.write(xml_str)\n",
    "    #print(xml_str)\n",
    "    # at_schedule_record(at_out_path, at_time_str)\n"
   ]
  },
  {
   "cell_type": "code",
   "execution_count": 10,
   "id": "fbfcc0f4-0549-4946-978c-714282e3f21f",
   "metadata": {},
   "outputs": [
    {
     "name": "stdout",
     "output_type": "stream",
     "text": [
      "20241019 20241018\n",
      "True\n",
      "/home/tony/tv/favorites/S.W.A.T..weekly\n",
      "AT 202410181900\n",
      "hi 20241026 20241025 00:00\n",
      "20241019 20241018\n",
      "True\n",
      "/home/tony/tv/favorites/Blue_Bloods.weekly\n",
      "AT 202410182100\n",
      "hi 20241026 20241025 02:00\n",
      "20241026 20241025\n",
      "True\n",
      "/home/tony/tv/favorites/20_20.weekly\n",
      "AT 202410252001\n",
      "hi 20241026 20241025 01:01\n",
      "20241026 20241025\n",
      "True\n",
      "/home/tony/tv/favorites/Dateline_NBC.weekly\n",
      "AT 202410252000\n",
      "hi 20241026 20241025 01:00\n",
      "20241019 20241018\n",
      "True\n",
      "/home/tony/tv/favorites/Fire_Country.weekly\n",
      "AT 202410182000\n",
      "hi 20241026 20241025 01:00\n"
     ]
    }
   ],
   "source": [
    "for fav in weekly_favs:\n",
    "    # print(fav)\n",
    "    with open(fav) as fd:\n",
    "        doc = xmltodict.parse(fd.read())\n",
    "        # print(doc)\n",
    "        start_date = doc['tv-program-info']['program']['start-date']\n",
    "        time_str = doc['tv-program-info']['program']['start-time']\n",
    "        my_date = da_convert_gmt_local_date(start_date, time_str)\n",
    "        \n",
    "        if da_is_same_day_of_week(my_date):\n",
    "            print(start_date, my_date)\n",
    "            print(da_is_same_day_of_week(my_date))\n",
    "            print(fav)\n",
    "            if not DRY:\n",
    "                record_me_today(fav, doc)\n",
    "            else:\n",
    "                print(\"DRY-RUN BABY!\")\n"
   ]
  },
  {
   "cell_type": "code",
   "execution_count": null,
   "id": "5b0e60aa-bb84-4994-99b5-212c2e28b423",
   "metadata": {},
   "outputs": [],
   "source": []
  },
  {
   "cell_type": "code",
   "execution_count": null,
   "id": "3c9b6151-528b-4695-92ae-901837c46682",
   "metadata": {},
   "outputs": [],
   "source": []
  }
 ],
 "metadata": {
  "kernelspec": {
   "display_name": "Python 3 (ipykernel)",
   "language": "python",
   "name": "python3"
  },
  "language_info": {
   "codemirror_mode": {
    "name": "ipython",
    "version": 3
   },
   "file_extension": ".py",
   "mimetype": "text/x-python",
   "name": "python",
   "nbconvert_exporter": "python",
   "pygments_lexer": "ipython3",
   "version": "3.10.8"
  }
 },
 "nbformat": 4,
 "nbformat_minor": 5
}
