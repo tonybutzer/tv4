{
 "cells": [
  {
   "cell_type": "markdown",
   "id": "ed33a9ff-86e6-4636-8ebf-6237a9eff033",
   "metadata": {},
   "source": [
    "# weekly favorites\n"
   ]
  },
  {
   "cell_type": "code",
   "execution_count": 1,
   "id": "b8562584-ae9b-4496-aaab-3f3c16b05dfd",
   "metadata": {},
   "outputs": [],
   "source": [
    "DRY=True"
   ]
  },
  {
   "cell_type": "code",
   "execution_count": 2,
   "id": "492be8dd-4b4e-4c23-9359-ca8da1b8e3d9",
   "metadata": {},
   "outputs": [],
   "source": [
    "import os"
   ]
  },
  {
   "cell_type": "code",
   "execution_count": 3,
   "id": "b5e508ef-327b-4ea6-bf3f-3d3a130e20e5",
   "metadata": {},
   "outputs": [],
   "source": [
    "from libtv.da import da_today_is_weekday, da_convert_gmt_local, da_today_date_str, da_is_same_day_of_week\n",
    "from libtv.da import da_convert_local_gmt_date, da_convert_gmt_local_date, da_convert_gmt_local_time\n",
    "from libtv.xm import xm_get_download_files, xm_get_favorite_files\n",
    "from libtv.at import at_schedule_record\n",
    "from libtv.file import file_uniquify\n",
    "import xmltodict"
   ]
  },
  {
   "cell_type": "code",
   "execution_count": 4,
   "id": "535bfe4d-f158-4ec9-9827-66d845c1c3a0",
   "metadata": {},
   "outputs": [
    {
     "name": "stdout",
     "output_type": "stream",
     "text": [
      "S.W.A.T..weekly\n",
      "48_Hours__1_.weekly\n",
      "Matlock.weekly\n",
      "FBI__Most_Wanted.weekly\n",
      "NCIS__Origins.weekly\n",
      "Blue_Bloods.weekly\n",
      "FBI.weekly\n",
      "60_Minutes.weekly\n",
      "Tracker.weekly\n",
      "FBI__International.weekly\n",
      "48_Hours.weekly\n",
      "Elsbeth.weekly\n",
      "Fire_Country.weekly\n",
      "['/home/tony/tv/favorites/S.W.A.T..weekly', '/home/tony/tv/favorites/48_Hours__1_.weekly', '/home/tony/tv/favorites/Matlock.weekly', '/home/tony/tv/favorites/FBI__Most_Wanted.weekly', '/home/tony/tv/favorites/NCIS__Origins.weekly', '/home/tony/tv/favorites/Blue_Bloods.weekly', '/home/tony/tv/favorites/FBI.weekly', '/home/tony/tv/favorites/60_Minutes.weekly', '/home/tony/tv/favorites/Tracker.weekly', '/home/tony/tv/favorites/FBI__International.weekly', '/home/tony/tv/favorites/48_Hours.weekly', '/home/tony/tv/favorites/Elsbeth.weekly', '/home/tony/tv/favorites/Fire_Country.weekly']\n"
     ]
    }
   ],
   "source": [
    "print(xm_get_favorite_files('.weekly'))"
   ]
  },
  {
   "cell_type": "code",
   "execution_count": 5,
   "id": "3cdf21e8-55c3-4cb0-b0ff-d35d695d5d35",
   "metadata": {},
   "outputs": [
    {
     "name": "stdout",
     "output_type": "stream",
     "text": [
      "S.W.A.T..weekly\n",
      "48_Hours__1_.weekly\n",
      "Matlock.weekly\n",
      "FBI__Most_Wanted.weekly\n",
      "NCIS__Origins.weekly\n",
      "Blue_Bloods.weekly\n",
      "FBI.weekly\n",
      "60_Minutes.weekly\n",
      "Tracker.weekly\n",
      "FBI__International.weekly\n",
      "48_Hours.weekly\n",
      "Elsbeth.weekly\n",
      "Fire_Country.weekly\n"
     ]
    },
    {
     "data": {
      "text/plain": [
       "['/home/tony/tv/favorites/S.W.A.T..weekly',\n",
       " '/home/tony/tv/favorites/48_Hours__1_.weekly',\n",
       " '/home/tony/tv/favorites/Matlock.weekly',\n",
       " '/home/tony/tv/favorites/FBI__Most_Wanted.weekly',\n",
       " '/home/tony/tv/favorites/NCIS__Origins.weekly',\n",
       " '/home/tony/tv/favorites/Blue_Bloods.weekly',\n",
       " '/home/tony/tv/favorites/FBI.weekly',\n",
       " '/home/tony/tv/favorites/60_Minutes.weekly',\n",
       " '/home/tony/tv/favorites/Tracker.weekly',\n",
       " '/home/tony/tv/favorites/FBI__International.weekly',\n",
       " '/home/tony/tv/favorites/48_Hours.weekly',\n",
       " '/home/tony/tv/favorites/Elsbeth.weekly',\n",
       " '/home/tony/tv/favorites/Fire_Country.weekly']"
      ]
     },
     "execution_count": 5,
     "metadata": {},
     "output_type": "execute_result"
    }
   ],
   "source": [
    "weekly_favs = xm_get_favorite_files('.weekly')\n",
    "\n",
    "weekly_favs"
   ]
  },
  {
   "cell_type": "code",
   "execution_count": 6,
   "id": "346ebc40-9fb0-435a-89ac-7b8f8aac6463",
   "metadata": {},
   "outputs": [],
   "source": [
    "WEEKLY='/home/tony/tv/weekly'\n",
    "def record_me_today(fav, doc):\n",
    "    today_date_str = da_today_date_str()\n",
    "    start_date = doc['tv-program-info']['program']['start-date']\n",
    "    time_str = doc['tv-program-info']['program']['start-time']\n",
    "    at_time_str = da_convert_gmt_local(start_date, time_str)\n",
    "    local_time_str = da_convert_gmt_local_time(start_date, time_str)\n",
    "    print('AT',at_time_str)\n",
    "    gmt_today_date_str = da_convert_local_gmt_date(today_date_str, local_time_str)\n",
    "    print('hi', gmt_today_date_str, today_date_str, time_str)\n",
    "    doc['tv-program-info']['program']['start-date'] = gmt_today_date_str\n",
    "    doc['tv-program-info']['program']['end-date'] = gmt_today_date_str\n",
    "    base_name = os.path.basename(fav)\n",
    "    print(base_name)\n",
    "    at_out_path = f'{WEEKLY}/{base_name}'\n",
    "    xml_str = xmltodict.unparse(doc, pretty=True)\n",
    "    with open(at_out_path, 'w') as file:\n",
    "        file.write(xml_str)\n",
    "    #print(xml_str)\n",
    "    at_schedule_record(at_out_path, at_time_str)"
   ]
  },
  {
   "cell_type": "code",
   "execution_count": 8,
   "id": "876fcd36-6178-4631-a459-94630505a6c4",
   "metadata": {},
   "outputs": [
    {
     "name": "stdout",
     "output_type": "stream",
     "text": [
      "/home/tony/tv/favorites/S.W.A.T..weekly\n",
      "20241019 20241018\n",
      "False\n",
      "/home/tony/tv/favorites/48_Hours__1_.weekly\n",
      "20241020 20241019\n",
      "False\n",
      "/home/tony/tv/favorites/Matlock.weekly\n",
      "20241018 20241017\n",
      "True\n",
      "/home/tony/tv/favorites/Matlock.weekly\n",
      "DRY-RUN BABY!\n",
      "/home/tony/tv/favorites/FBI__Most_Wanted.weekly\n",
      "20241023 20241022\n",
      "False\n",
      "/home/tony/tv/favorites/NCIS__Origins.weekly\n",
      "20241022 20241021\n",
      "False\n",
      "/home/tony/tv/favorites/Blue_Bloods.weekly\n",
      "20241019 20241018\n",
      "False\n",
      "/home/tony/tv/favorites/FBI.weekly\n",
      "20241023 20241022\n",
      "False\n",
      "/home/tony/tv/favorites/60_Minutes.weekly\n",
      "20241020 20241020\n",
      "False\n",
      "/home/tony/tv/favorites/Tracker.weekly\n",
      "20241021 20241020\n",
      "False\n",
      "/home/tony/tv/favorites/FBI__International.weekly\n",
      "20241023 20241022\n",
      "False\n",
      "/home/tony/tv/favorites/48_Hours.weekly\n",
      "20241020 20241019\n",
      "False\n",
      "/home/tony/tv/favorites/Elsbeth.weekly\n",
      "20241018 20241017\n",
      "True\n",
      "/home/tony/tv/favorites/Elsbeth.weekly\n",
      "DRY-RUN BABY!\n",
      "/home/tony/tv/favorites/Fire_Country.weekly\n",
      "20241019 20241018\n",
      "False\n"
     ]
    }
   ],
   "source": [
    "for fav in weekly_favs:\n",
    "    print(fav)\n",
    "    with open(fav) as fd:\n",
    "        doc = xmltodict.parse(fd.read())\n",
    "        # print(doc)\n",
    "        start_date = doc['tv-program-info']['program']['start-date']\n",
    "        time_str = doc['tv-program-info']['program']['start-time']\n",
    "        my_date = da_convert_gmt_local_date(start_date, time_str)\n",
    "        print(start_date, my_date)\n",
    "        print(da_is_same_day_of_week(my_date))\n",
    "        if da_is_same_day_of_week(my_date):\n",
    "            print(fav)\n",
    "            if not DRY:\n",
    "                record_me_today(fav, doc)\n",
    "            else:\n",
    "                print(\"DRY-RUN BABY!\")"
   ]
  },
  {
   "cell_type": "code",
   "execution_count": null,
   "id": "d3fa0e58-593c-40d5-a2f3-0d89ab2b0f77",
   "metadata": {},
   "outputs": [],
   "source": []
  }
 ],
 "metadata": {
  "kernelspec": {
   "display_name": "Python 3 (ipykernel)",
   "language": "python",
   "name": "python3"
  },
  "language_info": {
   "codemirror_mode": {
    "name": "ipython",
    "version": 3
   },
   "file_extension": ".py",
   "mimetype": "text/x-python",
   "name": "python",
   "nbconvert_exporter": "python",
   "pygments_lexer": "ipython3",
   "version": "3.10.8"
  }
 },
 "nbformat": 4,
 "nbformat_minor": 5
}
