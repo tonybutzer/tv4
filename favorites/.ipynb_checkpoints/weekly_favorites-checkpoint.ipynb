{
 "cells": [
  {
   "cell_type": "markdown",
   "id": "ed33a9ff-86e6-4636-8ebf-6237a9eff033",
   "metadata": {},
   "source": [
    "# weekly favorites\n"
   ]
  },
  {
   "cell_type": "code",
   "execution_count": 1,
   "id": "492be8dd-4b4e-4c23-9359-ca8da1b8e3d9",
   "metadata": {},
   "outputs": [],
   "source": [
    "import os"
   ]
  },
  {
   "cell_type": "code",
   "execution_count": 2,
   "id": "b5e508ef-327b-4ea6-bf3f-3d3a130e20e5",
   "metadata": {},
   "outputs": [],
   "source": [
    "from libtv.da import da_today_is_weekday, da_convert_gmt_local, da_today_date_str, da_is_same_day_of_week\n",
    "from libtv.da import da_convert_local_gmt_date, da_convert_gmt_local_date, da_convert_gmt_local_time\n",
    "from libtv.xm import xm_get_download_files, xm_get_favorite_files\n",
    "from libtv.at import at_schedule_record\n",
    "from libtv.file import file_uniquify\n",
    "import xmltodict"
   ]
  },
  {
   "cell_type": "code",
   "execution_count": 3,
   "id": "63a24e2e-a077-4e8d-a192-d4a97f1f03d1",
   "metadata": {},
   "outputs": [
    {
     "name": "stdout",
     "output_type": "stream",
     "text": [
      "[]\n"
     ]
    }
   ],
   "source": [
    "print(xm_get_download_files('prog'))"
   ]
  },
  {
   "cell_type": "code",
   "execution_count": 4,
   "id": "fc99ca4b-7d13-4bd6-a59b-5a5d6a31d5ed",
   "metadata": {},
   "outputs": [],
   "source": [
    "def mv_programs_to_daily_favorites(programs):\n",
    "    for program in programs:\n",
    "        # program = f'/home/tony/Downloads/{program}'\n",
    "        print(program)\n",
    "        with open(program) as fd:\n",
    "            doc = xmltodict.parse(fd.read())\n",
    "        title = doc['tv-program-info']['program']['program-title']\n",
    "        print(title)\n",
    "        title = title.replace('\\'', '_')\n",
    "        title = title.replace(':', '_')\n",
    "        title = title.replace(' ', '_')\n",
    "\n",
    "        fname = title+'.weekly'\n",
    "        newpath = f'/home/tony/tv/favorites/{fname}'\n",
    "        newpath = file_uniquify(newpath)\n",
    "        print(newpath)\n",
    "        os.rename(program,newpath)"
   ]
  },
  {
   "cell_type": "code",
   "execution_count": 5,
   "id": "6f2b7a6f-7a4a-459c-be18-1da95c5c6f17",
   "metadata": {},
   "outputs": [],
   "source": [
    "prog_files = xm_get_download_files('prog')\n",
    "mv_programs_to_daily_favorites(prog_files)"
   ]
  },
  {
   "cell_type": "code",
   "execution_count": 6,
   "id": "535bfe4d-f158-4ec9-9827-66d845c1c3a0",
   "metadata": {},
   "outputs": [
    {
     "name": "stdout",
     "output_type": "stream",
     "text": [
      "Matlock.weekly\n",
      "FBI__Most_Wanted.weekly\n",
      "NCIS__Origins.weekly\n",
      "FBI.weekly\n",
      "FBI__International.weekly\n",
      "Elsbeth.weekly\n",
      "['/home/tony/tv/favorites/Matlock.weekly', '/home/tony/tv/favorites/FBI__Most_Wanted.weekly', '/home/tony/tv/favorites/NCIS__Origins.weekly', '/home/tony/tv/favorites/FBI.weekly', '/home/tony/tv/favorites/FBI__International.weekly', '/home/tony/tv/favorites/Elsbeth.weekly']\n"
     ]
    }
   ],
   "source": [
    "print(xm_get_favorite_files('.weekly'))"
   ]
  },
  {
   "cell_type": "code",
   "execution_count": 7,
   "id": "5b77d49d-4562-44a0-b793-d1bea1a7b4d9",
   "metadata": {},
   "outputs": [
    {
     "name": "stdout",
     "output_type": "stream",
     "text": [
      "The day of the week for 2024-10-17 is Thursday.\n",
      "Is today the same day of the week? Yes\n"
     ]
    }
   ],
   "source": [
    "from datetime import datetime\n",
    "\n",
    "# Function to get the day of the week for a given date\n",
    "def get_day_of_week(date_str):\n",
    "    date_obj = datetime.strptime(date_str, \"%Y-%m-%d\")\n",
    "    return date_obj.strftime(\"%A\")\n",
    "\n",
    "# Function to check if the given date is the same day of the week as today\n",
    "def is_same_day_of_week(date_str):\n",
    "    date_obj = datetime.strptime(date_str, \"%Y-%m-%d\")\n",
    "    today = datetime.now()\n",
    "    return date_obj.weekday() == today.weekday()\n",
    "\n",
    "# Example usage\n",
    "date_str = \"2024-10-17\"  # Replace with your date\n",
    "day_of_week = get_day_of_week(date_str)\n",
    "same_day = is_same_day_of_week(date_str)\n",
    "\n",
    "print(f\"The day of the week for {date_str} is {day_of_week}.\")\n",
    "print(f\"Is today the same day of the week? {'Yes' if same_day else 'No'}\")\n"
   ]
  },
  {
   "cell_type": "code",
   "execution_count": 8,
   "id": "3cdf21e8-55c3-4cb0-b0ff-d35d695d5d35",
   "metadata": {},
   "outputs": [
    {
     "name": "stdout",
     "output_type": "stream",
     "text": [
      "Matlock.weekly\n",
      "FBI__Most_Wanted.weekly\n",
      "NCIS__Origins.weekly\n",
      "FBI.weekly\n",
      "FBI__International.weekly\n",
      "Elsbeth.weekly\n"
     ]
    },
    {
     "data": {
      "text/plain": [
       "['/home/tony/tv/favorites/Matlock.weekly',\n",
       " '/home/tony/tv/favorites/FBI__Most_Wanted.weekly',\n",
       " '/home/tony/tv/favorites/NCIS__Origins.weekly',\n",
       " '/home/tony/tv/favorites/FBI.weekly',\n",
       " '/home/tony/tv/favorites/FBI__International.weekly',\n",
       " '/home/tony/tv/favorites/Elsbeth.weekly']"
      ]
     },
     "execution_count": 8,
     "metadata": {},
     "output_type": "execute_result"
    }
   ],
   "source": [
    "weekly_favs = xm_get_favorite_files('.weekly')\n",
    "\n",
    "weekly_favs"
   ]
  },
  {
   "cell_type": "code",
   "execution_count": 9,
   "id": "346ebc40-9fb0-435a-89ac-7b8f8aac6463",
   "metadata": {},
   "outputs": [],
   "source": [
    "WEEKLY='/home/tony/tv/weekly'\n",
    "def record_me_today(fav, doc):\n",
    "    today_date_str = da_today_date_str()\n",
    "    start_date = doc['tv-program-info']['program']['start-date']\n",
    "    time_str = doc['tv-program-info']['program']['start-time']\n",
    "    at_time_str = da_convert_gmt_local(start_date, time_str)\n",
    "    local_time_str = da_convert_gmt_local_time(start_date, time_str)\n",
    "    print('AT',at_time_str)\n",
    "    gmt_today_date_str = da_convert_local_gmt_date(today_date_str, local_time_str)\n",
    "    print('hi', gmt_today_date_str, today_date_str, time_str)\n",
    "    doc['tv-program-info']['program']['start-date'] = gmt_today_date_str\n",
    "    doc['tv-program-info']['program']['end-date'] = gmt_today_date_str\n",
    "    base_name = os.path.basename(fav)\n",
    "    print(base_name)\n",
    "    at_out_path = f'{WEEKLY}/{base_name}'\n",
    "    xml_str = xmltodict.unparse(doc, pretty=True)\n",
    "    with open(at_out_path, 'w') as file:\n",
    "        file.write(xml_str)\n",
    "    #print(xml_str)\n",
    "    at_schedule_record(at_out_path, at_time_str)"
   ]
  },
  {
   "cell_type": "code",
   "execution_count": 10,
   "id": "876fcd36-6178-4631-a459-94630505a6c4",
   "metadata": {},
   "outputs": [
    {
     "name": "stdout",
     "output_type": "stream",
     "text": [
      "/home/tony/tv/favorites/Matlock.weekly\n",
      "20241018 20241017\n",
      "True\n",
      "/home/tony/tv/favorites/Matlock.weekly\n",
      "AT 202410172001\n",
      "hi 20241018 20241017 01:01\n",
      "Matlock.weekly\n",
      "warning: commands will be executed using /bin/sh\n",
      "job 1769 at Thu Oct 17 20:01:00 2024\n",
      "/home/tony/tv/favorites/FBI__Most_Wanted.weekly\n",
      "20241023 20241022\n",
      "False\n",
      "/home/tony/tv/favorites/NCIS__Origins.weekly\n",
      "20241022 20241021\n",
      "False\n",
      "/home/tony/tv/favorites/FBI.weekly\n",
      "20241023 20241022\n",
      "False\n",
      "/home/tony/tv/favorites/FBI__International.weekly\n",
      "20241023 20241022\n",
      "False\n",
      "/home/tony/tv/favorites/Elsbeth.weekly\n",
      "20241018 20241017\n",
      "True\n",
      "/home/tony/tv/favorites/Elsbeth.weekly\n",
      "AT 202410172100\n",
      "hi 20241018 20241017 02:00\n",
      "Elsbeth.weekly\n",
      "warning: commands will be executed using /bin/sh\n",
      "job 1770 at Thu Oct 17 21:00:00 2024\n"
     ]
    }
   ],
   "source": [
    "for fav in weekly_favs:\n",
    "    print(fav)\n",
    "    with open(fav) as fd:\n",
    "        doc = xmltodict.parse(fd.read())\n",
    "        # print(doc)\n",
    "        start_date = doc['tv-program-info']['program']['start-date']\n",
    "        time_str = doc['tv-program-info']['program']['start-time']\n",
    "        my_date = da_convert_gmt_local_date(start_date, time_str)\n",
    "        print(start_date, my_date)\n",
    "        print(da_is_same_day_of_week(my_date))\n",
    "        if da_is_same_day_of_week(my_date):\n",
    "            print(fav)\n",
    "            record_me_today(fav, doc)"
   ]
  },
  {
   "cell_type": "code",
   "execution_count": null,
   "id": "d3fa0e58-593c-40d5-a2f3-0d89ab2b0f77",
   "metadata": {},
   "outputs": [],
   "source": []
  }
 ],
 "metadata": {
  "kernelspec": {
   "display_name": "Python 3 (ipykernel)",
   "language": "python",
   "name": "python3"
  },
  "language_info": {
   "codemirror_mode": {
    "name": "ipython",
    "version": 3
   },
   "file_extension": ".py",
   "mimetype": "text/x-python",
   "name": "python",
   "nbconvert_exporter": "python",
   "pygments_lexer": "ipython3",
   "version": "3.10.8"
  }
 },
 "nbformat": 4,
 "nbformat_minor": 5
}
