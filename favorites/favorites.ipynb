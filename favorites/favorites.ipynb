{
 "cells": [
  {
   "cell_type": "markdown",
   "id": "852eb8fe-7e19-43d9-896b-e31b8d3cb14d",
   "metadata": {},
   "source": [
    "# fAVORITES\n",
    "\n",
    "- expore favorites"
   ]
  },
  {
   "cell_type": "code",
   "execution_count": 2,
   "id": "591039da-f41d-4365-9bf0-5e20f55d2e91",
   "metadata": {},
   "outputs": [
    {
     "name": "stdout",
     "output_type": "stream",
     "text": [
      "watch-program.tvvi\n",
      "record-program.tvpi\n"
     ]
    }
   ],
   "source": [
    "import os\n",
    "\n",
    "# Get the path to the Downloads directory\n",
    "downloads_directory = os.path.expanduser(\"~/Downloads\")\n",
    "\n",
    "# List all files that contain \"prog\"\n",
    "prog_files = [f for f in os.listdir(downloads_directory) if \"prog\" in f]\n",
    "\n",
    "# Print the matching files\n",
    "for file in prog_files:\n",
    "    print(file)"
   ]
  },
  {
   "cell_type": "code",
   "execution_count": 3,
   "id": "e9045f6b-6fcf-4fda-9fb5-e9c832a29604",
   "metadata": {},
   "outputs": [],
   "source": [
    "# explore xml\n",
    "\n",
    "import xmltodict\n",
    "\n",
    "file = '/home/tony/Downloads/record-program.tvpi'\n",
    "with open(file) as fd:\n",
    "            doc = xmltodict.parse(fd.read())"
   ]
  },
  {
   "cell_type": "code",
   "execution_count": 4,
   "id": "8d568054-d168-49fd-ae2c-2c6b0fc13892",
   "metadata": {},
   "outputs": [
    {
     "data": {
      "text/plain": [
       "{'tv-program-info': {'@version': '1.0',\n",
       "  'program': {'station': 'KELO-TV',\n",
       "   'tv-mode': 'digital',\n",
       "   'program-title': 'KELOLAND This Morning at 5:30 AM',\n",
       "   'program-description': 'Overnight and early morning news events affecting the region and the nation, as well as weather and traffic conditions are presented by the KELOLAND News Team.',\n",
       "   'start-date': '20241018',\n",
       "   'start-time': '10:30',\n",
       "   'end-date': '20241018',\n",
       "   'end-time': '11:00',\n",
       "   'duration': '00:30',\n",
       "   'rf-channel': '11',\n",
       "   'psip-major': '11',\n",
       "   'psip-minor': '1',\n",
       "   'stream-number': '1'}}}"
      ]
     },
     "execution_count": 4,
     "metadata": {},
     "output_type": "execute_result"
    }
   ],
   "source": [
    "doc"
   ]
  },
  {
   "cell_type": "code",
   "execution_count": 5,
   "id": "91b1a0df-5304-46f3-ba45-d01a865872b9",
   "metadata": {},
   "outputs": [],
   "source": [
    "def uniquify(path):\n",
    "    filename, extension = os.path.splitext(path)\n",
    "    counter = 1\n",
    "\n",
    "    while os.path.exists(path):\n",
    "        path = filename + \"__\" + str(counter) + \"_\" + extension\n",
    "        counter += 1\n",
    "\n",
    "    return path"
   ]
  },
  {
   "cell_type": "code",
   "execution_count": 22,
   "id": "c7396be5-9c6d-4b09-be5b-c2fb12573ccf",
   "metadata": {},
   "outputs": [],
   "source": [
    "def mv_programs_to_favorites_xml(programs):\n",
    "    for program in programs:\n",
    "        print(program)\n",
    "        with open(program) as fd:\n",
    "            doc = xmltodict.parse(fd.read())\n",
    "        title = doc['tv-program-info']['program']['program-title']\n",
    "        print(title)\n",
    "        title = title.replace('\\'', '_')\n",
    "        title = title.replace(':', '_')\n",
    "        title = title.replace(' ', '_')\n",
    "\n",
    "        fname = title+'.xml'\n",
    "        newpath = f'/home/tony/tv/favorites/{fname}'\n",
    "        newpath = uniquify(newpath)\n",
    "        print(newpath)\n",
    "        os.rename(program,newpath)"
   ]
  },
  {
   "cell_type": "code",
   "execution_count": 23,
   "id": "07038343-5a3a-4e0b-8c45-8e45a5d05431",
   "metadata": {},
   "outputs": [],
   "source": [
    "#! mkdir ~/tv/favorites"
   ]
  },
  {
   "cell_type": "code",
   "execution_count": 24,
   "id": "a67ffadc-d121-41cf-a9c7-65b652b58661",
   "metadata": {},
   "outputs": [],
   "source": [
    "programs = [file]"
   ]
  },
  {
   "cell_type": "code",
   "execution_count": 25,
   "id": "1bf0f707-1155-4c1d-adf0-966eba463278",
   "metadata": {},
   "outputs": [
    {
     "name": "stdout",
     "output_type": "stream",
     "text": [
      "/home/tony/Downloads/record-program.tvpi\n",
      "KELOLAND This Morning at 5:30 AM\n",
      "/home/tony/tv/favorites/KELOLAND_This_Morning_at_5_30_AM.xml\n"
     ]
    }
   ],
   "source": [
    "mv_programs_to_favorites_xml(programs)"
   ]
  },
  {
   "cell_type": "code",
   "execution_count": null,
   "id": "e267d06d-e275-4a5e-9754-5fa99cff7fca",
   "metadata": {},
   "outputs": [],
   "source": [
    "# schedule this daily"
   ]
  },
  {
   "cell_type": "code",
   "execution_count": 26,
   "id": "0439e7ed-5908-4398-9cb2-3ad5d6060ba1",
   "metadata": {},
   "outputs": [
    {
     "name": "stdout",
     "output_type": "stream",
     "text": [
      "KELOLAND_This_Morning_at_5_30_AM.xml\n"
     ]
    }
   ],
   "source": [
    "# Get the path to the Downloads directory\n",
    "downloads_directory = os.path.expanduser(\"~/tv/favorites\")\n",
    "\n",
    "# List all files that contain \"prog\"\n",
    "prog_files = [f for f in os.listdir(downloads_directory) if \".xml\" in f]\n",
    "\n",
    "# Print the matching files\n",
    "for file in prog_files:\n",
    "    print(file)"
   ]
  },
  {
   "cell_type": "code",
   "execution_count": 29,
   "id": "fe8ce128-0049-4f48-b029-981578f07c90",
   "metadata": {},
   "outputs": [
    {
     "name": "stdout",
     "output_type": "stream",
     "text": [
      "KELOLAND_This_Morning_at_5_30_AM.xml\n"
     ]
    }
   ],
   "source": [
    "for prog in prog_files:\n",
    "    print(prog)\n",
    "    prog = f'/home/tony/tv/favorites/{prog}'\n",
    "    with open(prog) as fd:\n",
    "        doc = xmltodict.parse(fd.read())"
   ]
  },
  {
   "cell_type": "code",
   "execution_count": 30,
   "id": "1d8f83ab-9d0e-4586-b374-c9071d67fa6e",
   "metadata": {},
   "outputs": [
    {
     "data": {
      "text/plain": [
       "{'tv-program-info': {'@version': '1.0',\n",
       "  'program': {'station': 'KELO-TV',\n",
       "   'tv-mode': 'digital',\n",
       "   'program-title': 'KELOLAND This Morning at 5:30 AM',\n",
       "   'program-description': 'Overnight and early morning news events affecting the region and the nation, as well as weather and traffic conditions are presented by the KELOLAND News Team.',\n",
       "   'start-date': '20241018',\n",
       "   'start-time': '10:30',\n",
       "   'end-date': '20241018',\n",
       "   'end-time': '11:00',\n",
       "   'duration': '00:30',\n",
       "   'rf-channel': '11',\n",
       "   'psip-major': '11',\n",
       "   'psip-minor': '1',\n",
       "   'stream-number': '1'}}}"
      ]
     },
     "execution_count": 30,
     "metadata": {},
     "output_type": "execute_result"
    }
   ],
   "source": [
    "doc"
   ]
  },
  {
   "cell_type": "code",
   "execution_count": 34,
   "id": "2f124b6e-5c7d-48f0-a8bd-39a37981a8d7",
   "metadata": {},
   "outputs": [],
   "source": [
    "start_date = doc['tv-program-info']['program']['start-date']"
   ]
  },
  {
   "cell_type": "code",
   "execution_count": 35,
   "id": "4db381c4-00a9-41cd-a178-e197b2f6d91e",
   "metadata": {},
   "outputs": [
    {
     "data": {
      "text/plain": [
       "'20241018'"
      ]
     },
     "execution_count": 35,
     "metadata": {},
     "output_type": "execute_result"
    }
   ],
   "source": [
    "start_date"
   ]
  },
  {
   "cell_type": "code",
   "execution_count": 40,
   "id": "b541f43b-2fd9-4745-ab7a-dd05ee4047a2",
   "metadata": {},
   "outputs": [
    {
     "name": "stdout",
     "output_type": "stream",
     "text": [
      "Year: 2024\n",
      "Month: 10\n",
      "Day: 18\n"
     ]
    }
   ],
   "source": [
    "# Given date as an integer\n",
    "date_str = \"20241018\"\n",
    "\n",
    "# Split into year, month, and day\n",
    "year = int(date_str[:4])\n",
    "month = int(date_str[4:6])\n",
    "day = int(date_str[6:])\n",
    "\n",
    "# Print the results\n",
    "print(\"Year:\", year)\n",
    "print(\"Month:\", month)\n",
    "print(\"Day:\", day)"
   ]
  },
  {
   "cell_type": "code",
   "execution_count": 42,
   "id": "eb6c02cd-c155-42cc-a4cb-24c397b349a8",
   "metadata": {},
   "outputs": [
    {
     "name": "stdout",
     "output_type": "stream",
     "text": [
      "20241018\n",
      "20241019\n",
      "20241020\n",
      "20241021\n",
      "20241022\n"
     ]
    }
   ],
   "source": [
    "from datetime import datetime, timedelta\n",
    "\n",
    "# Start date\n",
    "start_date = datetime(year, month, day)\n",
    "\n",
    "# List the next five dates\n",
    "next_five_dates = [start_date] + [start_date + timedelta(days=i) for i in range(1, 5)]\n",
    "\n",
    "# Print the next five dates\n",
    "for date in next_five_dates:\n",
    "    print(date.strftime(\"%Y%m%d\"))"
   ]
  },
  {
   "cell_type": "code",
   "execution_count": 46,
   "id": "6be0097f-e135-4936-9615-602f1c67dec4",
   "metadata": {},
   "outputs": [
    {
     "name": "stdout",
     "output_type": "stream",
     "text": [
      "Substitution complete.\n"
     ]
    }
   ],
   "source": [
    "# Define the file path\n",
    "file_path = prog  # Replace with your actual file name\n",
    "\n",
    "# Read the file\n",
    "with open(file_path, 'r') as file:\n",
    "    content = file.read()\n",
    "\n",
    "# Substitute the old date with the new date\n",
    "updated_content = content.replace('20241018', '20241019')\n",
    "\n",
    "# Write the updated content back to the file\n",
    "with open('newfile', 'w') as file:\n",
    "    file.write(updated_content)\n",
    "\n",
    "print(\"Substitution complete.\")"
   ]
  },
  {
   "cell_type": "code",
   "execution_count": 47,
   "id": "3835cefc-7a3a-4dfa-aab5-865af07f833a",
   "metadata": {},
   "outputs": [
    {
     "name": "stdout",
     "output_type": "stream",
     "text": [
      "favorites.ipynb  Makefile  newfile\n"
     ]
    }
   ],
   "source": [
    "! ls"
   ]
  },
  {
   "cell_type": "code",
   "execution_count": 48,
   "id": "11a256cc-8c9c-44ad-83ae-f22ed1515938",
   "metadata": {},
   "outputs": [
    {
     "name": "stdout",
     "output_type": "stream",
     "text": [
      "<tv-program-info version=\"1.0\">\n",
      "<program>\n",
      "<station>KELO-TV</station>\n",
      "<tv-mode>digital</tv-mode>\n",
      "<program-title>KELOLAND This Morning at 5:30 AM</program-title>\n",
      "<program-description>Overnight and early morning news events affecting the region and the nation, as well as weather and traffic conditions are presented by the KELOLAND News Team.</program-description>\n",
      "<start-date>20241019</start-date>\n",
      "<start-time>10:30</start-time>\n",
      "<end-date>20241019</end-date>\n",
      "<end-time>11:00</end-time>\n",
      "<duration>00:30</duration>\n",
      "<rf-channel>11</rf-channel>\n",
      "<psip-major>11</psip-major>\n",
      "<psip-minor>1</psip-minor>\n",
      "<stream-number>1</stream-number>\n",
      "</program>\n",
      "</tv-program-info>\n"
     ]
    }
   ],
   "source": [
    "! cat newfile"
   ]
  },
  {
   "cell_type": "code",
   "execution_count": null,
   "id": "689f7ce7-a223-4da0-a65d-e2673a432fff",
   "metadata": {},
   "outputs": [],
   "source": []
  }
 ],
 "metadata": {
  "kernelspec": {
   "display_name": "Python 3 (ipykernel)",
   "language": "python",
   "name": "python3"
  },
  "language_info": {
   "codemirror_mode": {
    "name": "ipython",
    "version": 3
   },
   "file_extension": ".py",
   "mimetype": "text/x-python",
   "name": "python",
   "nbconvert_exporter": "python",
   "pygments_lexer": "ipython3",
   "version": "3.10.8"
  }
 },
 "nbformat": 4,
 "nbformat_minor": 5
}
