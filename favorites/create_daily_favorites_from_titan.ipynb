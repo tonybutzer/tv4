{
 "cells": [
  {
   "cell_type": "markdown",
   "id": "ed33a9ff-86e6-4636-8ebf-6237a9eff033",
   "metadata": {},
   "source": [
    "# CREATE daily favorites from Downloads (Titan)\n",
    "\n",
    "- move Downloads to daily\n"
   ]
  },
  {
   "cell_type": "code",
   "execution_count": 7,
   "id": "492be8dd-4b4e-4c23-9359-ca8da1b8e3d9",
   "metadata": {},
   "outputs": [],
   "source": [
    "import os"
   ]
  },
  {
   "cell_type": "code",
   "execution_count": 8,
   "id": "b5e508ef-327b-4ea6-bf3f-3d3a130e20e5",
   "metadata": {},
   "outputs": [],
   "source": [
    "from libtv.da import da_today_is_weekday, da_convert_gmt_local, da_today_date_str, da_is_same_day_of_week\n",
    "from libtv.da import da_convert_local_gmt_date, da_convert_gmt_local_date, da_convert_gmt_local_time\n",
    "from libtv.xm import xm_get_download_files, xm_get_favorite_files\n",
    "from libtv.at import at_schedule_record\n",
    "from libtv.file import file_uniquify\n",
    "import xmltodict"
   ]
  },
  {
   "cell_type": "code",
   "execution_count": 9,
   "id": "fc99ca4b-7d13-4bd6-a59b-5a5d6a31d5ed",
   "metadata": {},
   "outputs": [],
   "source": [
    "def mv_programs_to_daily_favorites(programs):\n",
    "    for program in programs:\n",
    "        # program = f'/home/tony/Downloads/{program}'\n",
    "        print(program)\n",
    "        with open(program) as fd:\n",
    "            doc = xmltodict.parse(fd.read())\n",
    "        title = doc['tv-program-info']['program']['program-title']\n",
    "        print(title)\n",
    "        title = title.replace('\\'', '_')\n",
    "        title = title.replace(':', '_')\n",
    "        title = title.replace(' ', '_')\n",
    "\n",
    "        fname = title+'.daily'\n",
    "        newpath = f'/home/tony/tv/favorites/{fname}'\n",
    "        newpath = file_uniquify(newpath)\n",
    "        print(newpath)\n",
    "        os.rename(program,newpath)"
   ]
  },
  {
   "cell_type": "code",
   "execution_count": 10,
   "id": "6f2b7a6f-7a4a-459c-be18-1da95c5c6f17",
   "metadata": {},
   "outputs": [],
   "source": [
    "prog_files = xm_get_download_files('prog')\n",
    "mv_programs_to_daily_favorites(prog_files)"
   ]
  },
  {
   "cell_type": "code",
   "execution_count": 11,
   "id": "535bfe4d-f158-4ec9-9827-66d845c1c3a0",
   "metadata": {},
   "outputs": [
    {
     "name": "stdout",
     "output_type": "stream",
     "text": [
      "['/home/tony/tv/favorites/NBC_Nightly_News_with_Lester_Holt.daily', '/home/tony/tv/favorites/CBS_Evening_News_with_Norah_O_Donnell.daily', '/home/tony/tv/favorites/NBC_Nightly_News_with_Lester_Holt__1_.daily', '/home/tony/tv/favorites/KELOLAND_News_at_Five.daily', '/home/tony/tv/favorites/ABC_World_News_Tonight_with_David_Muir.daily']\n"
     ]
    }
   ],
   "source": [
    "print(xm_get_favorite_files('.daily'))"
   ]
  },
  {
   "cell_type": "code",
   "execution_count": 12,
   "id": "3cdf21e8-55c3-4cb0-b0ff-d35d695d5d35",
   "metadata": {},
   "outputs": [
    {
     "data": {
      "text/plain": [
       "['/home/tony/tv/favorites/NBC_Nightly_News_with_Lester_Holt.daily',\n",
       " '/home/tony/tv/favorites/CBS_Evening_News_with_Norah_O_Donnell.daily',\n",
       " '/home/tony/tv/favorites/NBC_Nightly_News_with_Lester_Holt__1_.daily',\n",
       " '/home/tony/tv/favorites/KELOLAND_News_at_Five.daily',\n",
       " '/home/tony/tv/favorites/ABC_World_News_Tonight_with_David_Muir.daily']"
      ]
     },
     "execution_count": 12,
     "metadata": {},
     "output_type": "execute_result"
    }
   ],
   "source": [
    "daily_favs = xm_get_favorite_files('.daily')\n",
    "\n",
    "daily_favs"
   ]
  },
  {
   "cell_type": "code",
   "execution_count": null,
   "id": "d3fa0e58-593c-40d5-a2f3-0d89ab2b0f77",
   "metadata": {},
   "outputs": [],
   "source": []
  }
 ],
 "metadata": {
  "kernelspec": {
   "display_name": "Python 3 (ipykernel)",
   "language": "python",
   "name": "python3"
  },
  "language_info": {
   "codemirror_mode": {
    "name": "ipython",
    "version": 3
   },
   "file_extension": ".py",
   "mimetype": "text/x-python",
   "name": "python",
   "nbconvert_exporter": "python",
   "pygments_lexer": "ipython3",
   "version": "3.10.8"
  }
 },
 "nbformat": 4,
 "nbformat_minor": 5
}
