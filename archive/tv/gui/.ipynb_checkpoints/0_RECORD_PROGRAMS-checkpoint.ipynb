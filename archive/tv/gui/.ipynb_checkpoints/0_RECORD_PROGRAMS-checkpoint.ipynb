{
 "cells": [
  {
   "cell_type": "code",
   "execution_count": 19,
   "id": "48f14945",
   "metadata": {},
   "outputs": [
    {
     "ename": "ImportError",
     "evalue": "cannot import name 'state_record_todo' from 'classes' (/home/tony/opt/tv/gui/classes.py)",
     "output_type": "error",
     "traceback": [
      "\u001b[0;31m---------------------------------------------------------------------------\u001b[0m",
      "\u001b[0;31mImportError\u001b[0m                               Traceback (most recent call last)",
      "Cell \u001b[0;32mIn[19], line 1\u001b[0m\n\u001b[0;32m----> 1\u001b[0m \u001b[38;5;28;01mfrom\u001b[39;00m \u001b[38;5;21;01mclasses\u001b[39;00m \u001b[38;5;28;01mimport\u001b[39;00m TITAN, get_files_titan_xml, state_record_todo\n",
      "\u001b[0;31mImportError\u001b[0m: cannot import name 'state_record_todo' from 'classes' (/home/tony/opt/tv/gui/classes.py)"
     ]
    }
   ],
   "source": [
    "from classes import TITAN, get_files_titan_xml, state_record_todo"
   ]
  },
  {
   "cell_type": "code",
   "execution_count": 18,
   "id": "95ad2048",
   "metadata": {},
   "outputs": [
    {
     "ename": "NameError",
     "evalue": "name 'state_record_todo' is not defined",
     "output_type": "error",
     "traceback": [
      "\u001b[0;31m---------------------------------------------------------------------------\u001b[0m",
      "\u001b[0;31mNameError\u001b[0m                                 Traceback (most recent call last)",
      "Cell \u001b[0;32mIn[18], line 1\u001b[0m\n\u001b[0;32m----> 1\u001b[0m \u001b[43mstate_record_todo\u001b[49m() \u001b[38;5;66;03m# sets up xml files in queue\u001b[39;00m\n",
      "\u001b[0;31mNameError\u001b[0m: name 'state_record_todo' is not defined"
     ]
    }
   ],
   "source": [
    "state_record_todo() # sets up xml files in queue"
   ]
  },
  {
   "cell_type": "code",
   "execution_count": 2,
   "id": "e6aa6a8f",
   "metadata": {},
   "outputs": [],
   "source": [
    "my_programs = get_files_titan_xml()"
   ]
  },
  {
   "cell_type": "code",
   "execution_count": 3,
   "id": "4f5f2feb",
   "metadata": {},
   "outputs": [
    {
     "data": {
      "text/plain": [
       "['/home/tony/tv/titan/Entertainment_Tonight.xml',\n",
       " '/home/tony/tv/titan/TMZ.xml',\n",
       " '/home/tony/tv/titan/Extra.xml']"
      ]
     },
     "execution_count": 3,
     "metadata": {},
     "output_type": "execute_result"
    }
   ],
   "source": [
    "my_programs"
   ]
  },
  {
   "cell_type": "code",
   "execution_count": 4,
   "id": "23abdcae",
   "metadata": {},
   "outputs": [
    {
     "data": {
      "text/plain": [
       "'/home/tony/tv/titan/Entertainment_Tonight.xml'"
      ]
     },
     "execution_count": 4,
     "metadata": {},
     "output_type": "execute_result"
    }
   ],
   "source": [
    "p = my_programs[0]\n",
    "\n",
    "p"
   ]
  },
  {
   "cell_type": "code",
   "execution_count": 5,
   "id": "6ca0f11f",
   "metadata": {},
   "outputs": [],
   "source": [
    "t = TITAN(p)"
   ]
  },
  {
   "cell_type": "code",
   "execution_count": 6,
   "id": "1642199c",
   "metadata": {},
   "outputs": [
    {
     "data": {
      "text/plain": [
       "'202212160112'"
      ]
     },
     "execution_count": 6,
     "metadata": {},
     "output_type": "execute_result"
    }
   ],
   "source": [
    "t.start_time()"
   ]
  },
  {
   "cell_type": "markdown",
   "id": "7dacadd7",
   "metadata": {},
   "source": [
    "# titan recorder\n",
    "\n"
   ]
  },
  {
   "cell_type": "code",
   "execution_count": 7,
   "id": "c01eb40a",
   "metadata": {},
   "outputs": [
    {
     "data": {
      "text/plain": [
       "'Entertainment_Tonight'"
      ]
     },
     "execution_count": 7,
     "metadata": {},
     "output_type": "execute_result"
    }
   ],
   "source": [
    "t.title()"
   ]
  },
  {
   "cell_type": "code",
   "execution_count": 8,
   "id": "b84ed3c9",
   "metadata": {},
   "outputs": [],
   "source": [
    "video_dir = '/home/tony/tv/video'\n",
    "my_title = t.title()\n",
    "# type(my_title)\n",
    "mpg_file = f'{video_dir}/{my_title}.mpg'"
   ]
  },
  {
   "cell_type": "code",
   "execution_count": 9,
   "id": "c6d77448",
   "metadata": {},
   "outputs": [],
   "source": [
    "#! mkdir /home/tony/tv/video"
   ]
  },
  {
   "cell_type": "code",
   "execution_count": 10,
   "id": "4b7fc1ba",
   "metadata": {},
   "outputs": [
    {
     "data": {
      "text/plain": [
       "'/home/tony/tv/video/Entertainment_Tonight.mpg'"
      ]
     },
     "execution_count": 10,
     "metadata": {},
     "output_type": "execute_result"
    }
   ],
   "source": [
    "mpg_file"
   ]
  },
  {
   "cell_type": "code",
   "execution_count": 11,
   "id": "86c12e74",
   "metadata": {},
   "outputs": [],
   "source": [
    "import subprocess\n",
    "\n",
    "def schedule_record(program_xml, time_str):\n",
    "    cmd=f'echo ./tr.sh  {program_xml}| at -t {time_str}'\n",
    "    mycmd=subprocess.getoutput(cmd)\n",
    "    print(mycmd)"
   ]
  },
  {
   "cell_type": "code",
   "execution_count": 12,
   "id": "9793e198",
   "metadata": {},
   "outputs": [
    {
     "name": "stdout",
     "output_type": "stream",
     "text": [
      "/home/tony/tv/titan/Entertainment_Tonight.xml\n",
      "202212160112\n",
      "warning: commands will be executed using /bin/sh\n",
      "job 29 at Fri Dec 16 01:12:00 2022\n",
      "/home/tony/tv/titan/TMZ.xml\n",
      "202212160500\n",
      "warning: commands will be executed using /bin/sh\n",
      "job 30 at Fri Dec 16 05:00:00 2022\n",
      "/home/tony/tv/titan/Extra.xml\n",
      "202212160205\n",
      "warning: commands will be executed using /bin/sh\n",
      "job 31 at Fri Dec 16 02:05:00 2022\n"
     ]
    }
   ],
   "source": [
    "for p in my_programs:\n",
    "    print(p)\n",
    "    t = TITAN(p)\n",
    "    start_time = t.start_time()\n",
    "    print(start_time)\n",
    "    schedule_record(p, start_time)"
   ]
  },
  {
   "cell_type": "code",
   "execution_count": 13,
   "id": "900cf477",
   "metadata": {},
   "outputs": [
    {
     "name": "stdout",
     "output_type": "stream",
     "text": [
      "29\tFri Dec 16 01:12:00 2022 a tony\r\n",
      "30\tFri Dec 16 05:00:00 2022 a tony\r\n",
      "31\tFri Dec 16 02:05:00 2022 a tony\r\n"
     ]
    }
   ],
   "source": [
    "! atq"
   ]
  },
  {
   "cell_type": "code",
   "execution_count": 14,
   "id": "621a6c81",
   "metadata": {},
   "outputs": [
    {
     "name": "stdout",
     "output_type": "stream",
     "text": [
      "/home/tony/tv/titan/Entertainment_Tonight.xml\n",
      "30\n",
      "/home/tony/tv/titan/TMZ.xml\n",
      "30\n",
      "/home/tony/tv/titan/Extra.xml\n",
      "30\n"
     ]
    }
   ],
   "source": [
    "for p in my_programs:\n",
    "    print(p)\n",
    "    t=TITAN(p)\n",
    "    print(t.duration())"
   ]
  },
  {
   "cell_type": "code",
   "execution_count": 15,
   "id": "3f9d6378",
   "metadata": {},
   "outputs": [
    {
     "name": "stdout",
     "output_type": "stream",
     "text": [
      "/home/tony/tv/titan/Entertainment_Tonight.xml\n",
      "/home/tony/tv/titan/TMZ.xml\n",
      "/home/tony/tv/titan/Extra.xml\n"
     ]
    }
   ],
   "source": [
    "for p in my_programs:\n",
    "    print(p)\n",
    "    state_recording(p)"
   ]
  },
  {
   "cell_type": "code",
   "execution_count": null,
   "id": "7b692761",
   "metadata": {},
   "outputs": [],
   "source": []
  }
 ],
 "metadata": {
  "kernelspec": {
   "display_name": "Python 3 (ipykernel)",
   "language": "python",
   "name": "python3"
  },
  "language_info": {
   "codemirror_mode": {
    "name": "ipython",
    "version": 3
   },
   "file_extension": ".py",
   "mimetype": "text/x-python",
   "name": "python",
   "nbconvert_exporter": "python",
   "pygments_lexer": "ipython3",
   "version": "3.10.8"
  }
 },
 "nbformat": 4,
 "nbformat_minor": 5
}
