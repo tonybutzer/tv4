{
 "cells": [
  {
   "cell_type": "code",
   "execution_count": 2,
   "id": "afd92f50",
   "metadata": {},
   "outputs": [
    {
     "name": "stdout",
     "output_type": "stream",
     "text": [
      "'program(1).tvpi'  'program(2).tvpi'   program.tvpi\r\n"
     ]
    }
   ],
   "source": [
    "!ls ~/Downloads"
   ]
  },
  {
   "cell_type": "code",
   "execution_count": 3,
   "id": "35c5063e",
   "metadata": {},
   "outputs": [],
   "source": [
    "#!mkdir ~/tv/titan"
   ]
  },
  {
   "cell_type": "code",
   "execution_count": 4,
   "id": "2f15fb2a",
   "metadata": {},
   "outputs": [
    {
     "name": "stdout",
     "output_type": "stream",
     "text": [
      "<tv-program-info version=\"1.0\">\r\n",
      "<program>\r\n",
      "<station>KELO-TV</station>\r\n",
      "<tv-mode>digital</tv-mode>\r\n",
      "<program-title>The Price Is Right</program-title>\r\n",
      "<program-description>Fans in attendance are called down to Contestant&apos;s Row to bid on various consumer goods in hopes of being the closest to the price without going over to go up on the stage to compete for various cash and prizes in unique contests and games.</program-description>\r\n",
      "<start-date>20221214</start-date>\r\n",
      "<start-time>16:00</start-time>\r\n",
      "<end-date>20221214</end-date>\r\n",
      "<end-time>17:00</end-time>\r\n",
      "<duration>01:00</duration>\r\n",
      "<rf-channel>11</rf-channel>\r\n",
      "<psip-major>11</psip-major>\r\n",
      "<psip-minor>1</psip-minor>\r\n",
      "<stream-number>1</stream-number>\r\n",
      "</program>\r\n",
      "</tv-program-info>\r\n"
     ]
    }
   ],
   "source": [
    "! cat /home/tony/Downloads/program.tvpi"
   ]
  },
  {
   "cell_type": "code",
   "execution_count": 5,
   "id": "c62be3bc",
   "metadata": {},
   "outputs": [
    {
     "name": "stdout",
     "output_type": "stream",
     "text": [
      "Collecting xmltodict\n",
      "  Downloading xmltodict-0.13.0-py2.py3-none-any.whl (10.0 kB)\n",
      "Installing collected packages: xmltodict\n",
      "Successfully installed xmltodict-0.13.0\n"
     ]
    }
   ],
   "source": [
    "! pip install xmltodict"
   ]
  },
  {
   "cell_type": "code",
   "execution_count": 7,
   "id": "1f44e194",
   "metadata": {},
   "outputs": [
    {
     "data": {
      "text/plain": [
       "{'tv-program-info': {'@version': '1.0',\n",
       "  'program': {'station': 'KELO-TV',\n",
       "   'tv-mode': 'digital',\n",
       "   'program-title': 'The Price Is Right',\n",
       "   'program-description': \"Fans in attendance are called down to Contestant's Row to bid on various consumer goods in hopes of being the closest to the price without going over to go up on the stage to compete for various cash and prizes in unique contests and games.\",\n",
       "   'start-date': '20221214',\n",
       "   'start-time': '16:00',\n",
       "   'end-date': '20221214',\n",
       "   'end-time': '17:00',\n",
       "   'duration': '01:00',\n",
       "   'rf-channel': '11',\n",
       "   'psip-major': '11',\n",
       "   'psip-minor': '1',\n",
       "   'stream-number': '1'}}}"
      ]
     },
     "execution_count": 7,
     "metadata": {},
     "output_type": "execute_result"
    }
   ],
   "source": [
    "import xmltodict\n",
    "# import pprint\n",
    "# import json\n",
    "\n",
    "with open('/home/tony/Downloads/program.tvpi') as fd:\n",
    "    doc = xmltodict.parse(fd.read())\n",
    "\n",
    "doc\n"
   ]
  },
  {
   "cell_type": "code",
   "execution_count": 19,
   "id": "6ccb87a5",
   "metadata": {},
   "outputs": [],
   "source": [
    "oldpath = '/home/tony/Downloads/program.tvpi'\n",
    "program = doc['tv-program-info']['program']['program-title']\n",
    "fname = program.replace(' ','_') + '.xml'\n",
    "newpath = f'/home/tony/tv/titan/{fname}'"
   ]
  },
  {
   "cell_type": "code",
   "execution_count": 20,
   "id": "327b2359",
   "metadata": {},
   "outputs": [
    {
     "data": {
      "text/plain": [
       "'/home/tony/tv/titan/The_Price_Is_Right.xml'"
      ]
     },
     "execution_count": 20,
     "metadata": {},
     "output_type": "execute_result"
    }
   ],
   "source": [
    "newpath"
   ]
  },
  {
   "cell_type": "code",
   "execution_count": 21,
   "id": "57723ead",
   "metadata": {},
   "outputs": [],
   "source": [
    "import os"
   ]
  },
  {
   "cell_type": "code",
   "execution_count": 22,
   "id": "955558f0",
   "metadata": {},
   "outputs": [],
   "source": [
    "def uniquify(path):\n",
    "    filename, extension = os.path.splitext(path)\n",
    "    counter = 1\n",
    "\n",
    "    while os.path.exists(path):\n",
    "        path = filename + \" (\" + str(counter) + \")\" + extension\n",
    "        counter += 1\n",
    "\n",
    "    return path"
   ]
  },
  {
   "cell_type": "code",
   "execution_count": 23,
   "id": "0b967dc2",
   "metadata": {},
   "outputs": [],
   "source": [
    "! echo JUNKdeadBeef > /home/tony/Downloads/junk.txt"
   ]
  },
  {
   "cell_type": "code",
   "execution_count": 37,
   "id": "73dd4f36",
   "metadata": {},
   "outputs": [],
   "source": [
    "def get_files_titan():\n",
    "    dir_path = '/home/tony/Downloads'\n",
    "    res = os.listdir(dir_path)\n",
    "    results = [i for i in res \n",
    "              if i.startswith('program')]\n",
    "    fresults = []\n",
    "    for file in results:\n",
    "        fresults.append(f'{dir_path}/{file}')\n",
    "    return fresults"
   ]
  },
  {
   "cell_type": "code",
   "execution_count": 38,
   "id": "6eedcfe2",
   "metadata": {},
   "outputs": [],
   "source": [
    "my_programs = get_files_titan()"
   ]
  },
  {
   "cell_type": "code",
   "execution_count": 39,
   "id": "37354350",
   "metadata": {},
   "outputs": [
    {
     "data": {
      "text/plain": [
       "['/home/tony/Downloads/program.tvpi',\n",
       " '/home/tony/Downloads/program(2).tvpi',\n",
       " '/home/tony/Downloads/program(1).tvpi']"
      ]
     },
     "execution_count": 39,
     "metadata": {},
     "output_type": "execute_result"
    }
   ],
   "source": [
    "my_programs"
   ]
  },
  {
   "cell_type": "code",
   "execution_count": 50,
   "id": "21d76c3e",
   "metadata": {},
   "outputs": [],
   "source": [
    "class TITAN:\n",
    "    def __init__(self, file):\n",
    "        print('init')\n",
    "        with open(file) as fd:\n",
    "            self.doc = xmltodict.parse(fd.read())\n",
    "    def title(self):\n",
    "        self.title = self.doc['tv-program-info']['program']['program-title'].replace(' ', '_')\n",
    "        return self.title"
   ]
  },
  {
   "cell_type": "code",
   "execution_count": 56,
   "id": "9de34930",
   "metadata": {},
   "outputs": [],
   "source": [
    "def mv_programs_to_titan(programs):\n",
    "    for program in programs:\n",
    "        print(program)\n",
    "        t=TITAN(program)\n",
    "        title = t.title()\n",
    "        print(title)\n",
    "        fname = title+'.xml'\n",
    "        newpath = f'/home/tony/tv/titan/{fname}'\n",
    "        os.rename(program,newpath)\n",
    "        "
   ]
  },
  {
   "cell_type": "code",
   "execution_count": 57,
   "id": "ecdef6b4",
   "metadata": {},
   "outputs": [
    {
     "name": "stdout",
     "output_type": "stream",
     "text": [
      "/home/tony/Downloads/program.tvpi\n",
      "init\n",
      "The_Price_Is_Right\n",
      "/home/tony/Downloads/program(2).tvpi\n",
      "init\n",
      "Dr._Phil\n",
      "/home/tony/Downloads/program(1).tvpi\n",
      "init\n",
      "The_Talk\n"
     ]
    }
   ],
   "source": [
    "mv_programs_to_titan(my_programs)"
   ]
  },
  {
   "cell_type": "code",
   "execution_count": 62,
   "id": "a88d8903",
   "metadata": {},
   "outputs": [],
   "source": [
    "! ls /home/tony/tv/titan/"
   ]
  },
  {
   "cell_type": "code",
   "execution_count": 59,
   "id": "918fb600",
   "metadata": {},
   "outputs": [
    {
     "name": "stdout",
     "output_type": "stream",
     "text": [
      "junk.txt\r\n"
     ]
    }
   ],
   "source": [
    "!ls /home/tony/Downloads/"
   ]
  },
  {
   "cell_type": "code",
   "execution_count": null,
   "id": "8e2dde48",
   "metadata": {},
   "outputs": [],
   "source": []
  }
 ],
 "metadata": {
  "kernelspec": {
   "display_name": "Python 3 (ipykernel)",
   "language": "python",
   "name": "python3"
  },
  "language_info": {
   "codemirror_mode": {
    "name": "ipython",
    "version": 3
   },
   "file_extension": ".py",
   "mimetype": "text/x-python",
   "name": "python",
   "nbconvert_exporter": "python",
   "pygments_lexer": "ipython3",
   "version": "3.10.8"
  }
 },
 "nbformat": 4,
 "nbformat_minor": 5
}
