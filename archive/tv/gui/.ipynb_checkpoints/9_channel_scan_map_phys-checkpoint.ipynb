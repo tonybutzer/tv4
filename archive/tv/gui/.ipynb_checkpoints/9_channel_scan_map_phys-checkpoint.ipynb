{
 "cells": [
  {
   "cell_type": "code",
   "execution_count": 1,
   "id": "8f871932",
   "metadata": {},
   "outputs": [
    {
     "name": "stdout",
     "output_type": "stream",
     "text": [
      "channel\n",
      "b'hdhomerun device 103AF69D found at 192.168.0.50\\n'\n",
      "103AF69D\n",
      "36.1, 8vsb, 36, 1, KWSD-TV\n",
      "14.1, 8vsb, 32, 3, Dabl\n",
      "14.2, 8vsb, 32, 4, Charge!\n",
      "14.3, 8vsb, 32, 5, Comet\n",
      "14.4, 8vsb, 32, 6, Stadium\n",
      "46.1, 8vsb, 21, 3, KDLT-TV\n",
      "46.2, 8vsb, 21, 4, FOX\n",
      "46.3, 8vsb, 21, 5, Antenna\n",
      "46.4, 8vsb, 21, 6, Cozi\n",
      "46.5, 8vsb, 21, 7, Court\n",
      "15.1, 8vsb, 20, 3, KABY-LD\n",
      "15.2, 8vsb, 20, 4, CW\n",
      "15.3, 8vsb, 20, 5, MeTV\n",
      "15.4, 8vsb, 20, 6, T-Crime\n",
      "15.5, 8vsb, 20, 7, Grio\n",
      "13.1, 8vsb, 13, 3, KSFY-TV\n",
      "13.2, 8vsb, 13, 4, CW\n",
      "13.3, 8vsb, 13, 5, MeTV\n",
      "13.4, 8vsb, 13, 6, T-Crime\n",
      "13.5, 8vsb, 13, 7, Grio\n",
      "human_channel, freq, phys, sub, station\n"
     ]
    }
   ],
   "source": [
    "from classes import CHANNEL\n",
    "\n",
    "c = CHANNEL()\n",
    "\n",
    "c.scan()"
   ]
  },
  {
   "cell_type": "code",
   "execution_count": 2,
   "id": "6f34fc66",
   "metadata": {},
   "outputs": [
    {
     "name": "stdout",
     "output_type": "stream",
     "text": [
      "human_channel, freq, phys, sub, station\r\n",
      "36.1, 8vsb, 36, 1, KWSD-TV\r\n",
      "14.1, 8vsb, 32, 3, Dabl\r\n",
      "14.2, 8vsb, 32, 4, Charge!\r\n",
      "14.3, 8vsb, 32, 5, Comet\r\n",
      "14.4, 8vsb, 32, 6, Stadium\r\n",
      "46.1, 8vsb, 21, 3, KDLT-TV\r\n",
      "46.2, 8vsb, 21, 4, FOX\r\n",
      "46.3, 8vsb, 21, 5, Antenna\r\n",
      "46.4, 8vsb, 21, 6, Cozi\r\n",
      "46.5, 8vsb, 21, 7, Court\r\n",
      "15.1, 8vsb, 20, 3, KABY-LD\r\n",
      "15.2, 8vsb, 20, 4, CW\r\n",
      "15.3, 8vsb, 20, 5, MeTV\r\n",
      "15.4, 8vsb, 20, 6, T-Crime\r\n",
      "15.5, 8vsb, 20, 7, Grio\r\n",
      "13.1, 8vsb, 13, 3, KSFY-TV\r\n",
      "13.2, 8vsb, 13, 4, CW\r\n",
      "13.3, 8vsb, 13, 5, MeTV\r\n",
      "13.4, 8vsb, 13, 6, T-Crime\r\n",
      "13.5, 8vsb, 13, 7, Grio\r\n"
     ]
    }
   ],
   "source": [
    "! cat channels.csv"
   ]
  },
  {
   "cell_type": "code",
   "execution_count": null,
   "id": "e646b6ac",
   "metadata": {},
   "outputs": [],
   "source": []
  }
 ],
 "metadata": {
  "kernelspec": {
   "display_name": "Python 3 (ipykernel)",
   "language": "python",
   "name": "python3"
  },
  "language_info": {
   "codemirror_mode": {
    "name": "ipython",
    "version": 3
   },
   "file_extension": ".py",
   "mimetype": "text/x-python",
   "name": "python",
   "nbconvert_exporter": "python",
   "pygments_lexer": "ipython3",
   "version": "3.10.8"
  }
 },
 "nbformat": 4,
 "nbformat_minor": 5
}
