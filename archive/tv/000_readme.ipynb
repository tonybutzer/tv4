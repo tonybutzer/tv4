{
 "cells": [
  {
   "cell_type": "code",
   "execution_count": 1,
   "id": "1a01879b-6368-44d5-a38c-1517aae5f7a5",
   "metadata": {},
   "outputs": [
    {
     "data": {
      "text/markdown": [
       "<!--ts-->\n",
       "* [tv](#tv)\n",
       "* [tactics](#tactics)\n",
       "* [Ref](#ref)\n",
       "\n",
       "<!-- Created by https://github.com/ekalinin/github-markdown-toc -->\n",
       "<!-- Added by: tony, at: Thu Dec 15 10:54:54 AM CST 2022 -->\n",
       "\n",
       "<!--te-->\n",
       "# tv happy dead sad\n",
       "## get jupyter working\n",
       "\n",
       "- review jupyter \n",
       "- place this in github\n",
       "- plan slow development\n",
       "- manually record with at\n",
       "\n",
       "# tv\n",
       "explore hdhr capabilities\n",
       "\n",
       "# tactics\n",
       "\n",
       "- get mint up on sleepy\n",
       "\t- install mvp, celluiod etc\n",
       "\t- test tv stuff - generalize tuner logic\n",
       "\n",
       "- test on dopey with better antenna\n",
       "\n",
       "- better tuner managment\n",
       "\n",
       "- reorganize code\n",
       "\n",
       "- document utilities\n",
       "\n",
       "- installation script to create all directories\n",
       "\n",
       "- theory of operation\n",
       "\t- minimal stack using just hdhhomerun_config etc\n",
       "\n",
       "\n",
       "\n",
       "# Ref\n",
       "\n",
       "\n"
      ],
      "text/plain": [
       "<IPython.core.display.Markdown object>"
      ]
     },
     "metadata": {},
     "output_type": "display_data"
    }
   ],
   "source": [
    "from IPython.display import display, Markdown\n",
    "\n",
    "with open('README.md', 'r') as fh:\n",
    "    content = fh.read()\n",
    "\n",
    "display(Markdown(content))"
   ]
  },
  {
   "cell_type": "code",
   "execution_count": null,
   "id": "554cfe81-530a-46d1-931b-bf5bce4bf502",
   "metadata": {},
   "outputs": [],
   "source": []
  }
 ],
 "metadata": {
  "kernelspec": {
   "display_name": "Python 3 (ipykernel)",
   "language": "python",
   "name": "python3"
  },
  "language_info": {
   "codemirror_mode": {
    "name": "ipython",
    "version": 3
   },
   "file_extension": ".py",
   "mimetype": "text/x-python",
   "name": "python",
   "nbconvert_exporter": "python",
   "pygments_lexer": "ipython3",
   "version": "3.10.8"
  }
 },
 "nbformat": 4,
 "nbformat_minor": 5
}
