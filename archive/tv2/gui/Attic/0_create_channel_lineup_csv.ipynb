{
 "cells": [
  {
   "cell_type": "code",
   "execution_count": 1,
   "id": "45e72723",
   "metadata": {},
   "outputs": [],
   "source": [
    "from hdhr_func import channel_info, HDHR\n",
    "from hdctl import HDCTL"
   ]
  },
  {
   "cell_type": "code",
   "execution_count": 2,
   "id": "4fd4c108",
   "metadata": {},
   "outputs": [],
   "source": [
    "def main():\n",
    "    hdhr = HDHR()\n",
    "    deviceid = hdhr.get_deviceid()\n",
    "    print (deviceid)\n",
    "    hdhomerun_config = \"/usr/bin/hdhomerun_config\"\n",
    "    tuner = 0\n",
    "\n",
    "    channels = channel_info(hdhomerun_config, deviceid, tuner)\n",
    "\n",
    "    for c in channels:\n",
    "        print(', '.join(c))\n",
    "        #print(c)"
   ]
  },
  {
   "cell_type": "code",
   "execution_count": 3,
   "id": "12da9878",
   "metadata": {},
   "outputs": [
    {
     "name": "stdout",
     "output_type": "stream",
     "text": [
      "CPU times: user 4 µs, sys: 1e+03 ns, total: 5 µs\n",
      "Wall time: 10 µs\n"
     ]
    }
   ],
   "source": [
    "%%time\n",
    "#main()"
   ]
  },
  {
   "cell_type": "code",
   "execution_count": 12,
   "id": "450744d6",
   "metadata": {},
   "outputs": [
    {
     "name": "stdout",
     "output_type": "stream",
     "text": [
      "    human_channel   freq   phys_channel   sub_channel         description\n",
      "0           36.10   8vsb             36             1             KWSD-TV\n",
      "1           46.10   8vsb             21             3             KDLT-TV\n",
      "2           46.20   8vsb             21             4                 FOX\n",
      "3           46.30   8vsb             21             5             Antenna\n",
      "4           46.40   8vsb             21             6                Cozi\n",
      "5           46.50   8vsb             21             7               Court\n",
      "6           15.10   8vsb             20             3             KABY-LD\n",
      "7           15.20   8vsb             20             4                  CW\n",
      "8           15.30   8vsb             20             5                MeTV\n",
      "9           15.40   8vsb             20             6             T-Crime\n",
      "10          15.50   8vsb             20             7                Grio\n",
      "11          11.10   8vsb             11             3                KELO\n",
      "12          11.20   8vsb             11             4                 UTV\n",
      "13          11.30   8vsb             11             5                 ION\n",
      "14          11.40   8vsb             11             6              Escape\n",
      "15           7.10   8vsb              7             3   KTTW-HD-(no-data)\n",
      "16           7.20   8vsb              7             4              ThisTV\n",
      "17           7.30   8vsb              7             5                 SBN\n",
      "18           7.40   8vsb              7             6      LAFF-(no-data)\n",
      "19           7.50   8vsb              7             7              Bounce\n",
      "20           7.60   8vsb              7             8                Grit\n",
      "21           7.70   8vsb              7             9                DEFY\n",
      "22           7.80   8vsb              7            10              TrReal\n",
      "23           7.90   8vsb              7            11     NEWSY-(no-data)\n",
      "24           7.10   8vsb              7            12               Quest\n",
      "25           7.11   8vsb              7            13               Twist\n",
      "   human_channel   freq   phys_channel   sub_channel  description\n",
      "2           46.2   8vsb             21             4          FOX\n"
     ]
    }
   ],
   "source": [
    "# tune test\n",
    "hdctl = HDCTL()\n",
    "hdctl.tune(46.2)\n"
   ]
  },
  {
   "cell_type": "code",
   "execution_count": 5,
   "id": "80b4b940",
   "metadata": {},
   "outputs": [
    {
     "name": "stdout",
     "output_type": "stream",
     "text": [
      "\r\n"
     ]
    }
   ],
   "source": [
    "! hdhomerun_config  103AF69D get /lineup/vchannel"
   ]
  },
  {
   "cell_type": "code",
   "execution_count": 6,
   "id": "1b0b1e15",
   "metadata": {},
   "outputs": [
    {
     "name": "stdout",
     "output_type": "stream",
     "text": [
      "Supported configuration options:\r\n",
      "/lineup/location <countrycode>:<postcode>\r\n",
      "/lineup/scan\r\n",
      "/lineup/vchannel\r\n",
      "/sys/copyright\r\n",
      "/sys/debug\r\n",
      "/sys/features\r\n",
      "/sys/hwmodel\r\n",
      "/sys/model\r\n",
      "/sys/restart <resource>\r\n",
      "/sys/version\r\n",
      "/tuner<n>/channel <modulation>:<freq|ch>\r\n",
      "/tuner<n>/channelmap <channelmap>\r\n",
      "/tuner<n>/debug\r\n",
      "/tuner<n>/filter \"0x<nnnn>-0x<nnnn> [...]\"\r\n",
      "/tuner<n>/lockkey\r\n",
      "/tuner<n>/program <program number>\r\n",
      "/tuner<n>/streaminfo\r\n",
      "/tuner<n>/status\r\n",
      "/tuner<n>/target <ip>:<port>\r\n",
      "/tuner<n>/vchannel <vchannel>\r\n",
      "\r\n"
     ]
    }
   ],
   "source": [
    "! hdhomerun_config  103AF69D get help"
   ]
  },
  {
   "cell_type": "code",
   "execution_count": 7,
   "id": "46683088",
   "metadata": {},
   "outputs": [
    {
     "name": "stdout",
     "output_type": "stream",
     "text": [
      "ch=auto:21 lock=8vsb ss=84 snq=78 seq=0 bps=0 pps=0\r\n"
     ]
    }
   ],
   "source": [
    "! hdhomerun_config  103AF69D get /tuner0/status"
   ]
  },
  {
   "cell_type": "code",
   "execution_count": 8,
   "id": "de2d26d5",
   "metadata": {},
   "outputs": [
    {
     "name": "stdout",
     "output_type": "stream",
     "text": [
      "auto:21\r\n"
     ]
    }
   ],
   "source": [
    "! hdhomerun_config  103AF69D get /tuner0/channel "
   ]
  },
  {
   "cell_type": "code",
   "execution_count": 9,
   "id": "6edc29fc",
   "metadata": {},
   "outputs": [
    {
     "name": "stdout",
     "output_type": "stream",
     "text": [
      "\r\n"
     ]
    }
   ],
   "source": [
    "! hdhomerun_config  103AF69D get /tuner0/vchannel"
   ]
  },
  {
   "cell_type": "code",
   "execution_count": 10,
   "id": "860d3cb2",
   "metadata": {},
   "outputs": [
    {
     "name": "stdout",
     "output_type": "stream",
     "text": [
      "4\r\n"
     ]
    }
   ],
   "source": [
    "! hdhomerun_config  103AF69D get /tuner0/program "
   ]
  },
  {
   "cell_type": "code",
   "execution_count": 13,
   "id": "60a35aa4",
   "metadata": {},
   "outputs": [
    {
     "name": "stdout",
     "output_type": "stream",
     "text": [
      "auto:21\n",
      "\n",
      "4\n",
      "\n"
     ]
    }
   ],
   "source": [
    "hdctl.get_hdtune()\n"
   ]
  },
  {
   "cell_type": "code",
   "execution_count": null,
   "id": "50fdfa7e",
   "metadata": {},
   "outputs": [],
   "source": []
  }
 ],
 "metadata": {
  "kernelspec": {
   "display_name": "Python 3 (ipykernel)",
   "language": "python",
   "name": "python3"
  },
  "language_info": {
   "codemirror_mode": {
    "name": "ipython",
    "version": 3
   },
   "file_extension": ".py",
   "mimetype": "text/x-python",
   "name": "python",
   "nbconvert_exporter": "python",
   "pygments_lexer": "ipython3",
   "version": "3.10.8"
  }
 },
 "nbformat": 4,
 "nbformat_minor": 5
}
