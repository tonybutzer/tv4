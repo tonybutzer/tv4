{
 "cells": [
  {
   "cell_type": "code",
   "execution_count": 14,
   "id": "e6fc01c4",
   "metadata": {},
   "outputs": [],
   "source": [
    "import os\n",
    "import xmltodict"
   ]
  },
  {
   "cell_type": "code",
   "execution_count": 15,
   "id": "2f15fb2a",
   "metadata": {},
   "outputs": [
    {
     "name": "stdout",
     "output_type": "stream",
     "text": [
      "cat: /home/tony/tv/titan/The_Talk.xml: No such file or directory\r\n"
     ]
    }
   ],
   "source": [
    "! cat /home/tony/tv/titan/The_Talk.xml"
   ]
  },
  {
   "cell_type": "code",
   "execution_count": 16,
   "id": "955558f0",
   "metadata": {},
   "outputs": [],
   "source": [
    "def uniquify(path):\n",
    "    filename, extension = os.path.splitext(path)\n",
    "    counter = 1\n",
    "\n",
    "    while os.path.exists(path):\n",
    "        path = filename + \" (\" + str(counter) + \")\" + extension\n",
    "        counter += 1\n",
    "\n",
    "    return path"
   ]
  },
  {
   "cell_type": "code",
   "execution_count": 17,
   "id": "73dd4f36",
   "metadata": {},
   "outputs": [],
   "source": [
    "def get_files_titan_xml():\n",
    "    dir_path = '/home/tony/tv/titan'\n",
    "    res = os.listdir(dir_path)\n",
    "    results = [i for i in res \n",
    "              if i.endswith('xml')]\n",
    "    fresults = []\n",
    "    for file in results:\n",
    "        fresults.append(f'{dir_path}/{file}')\n",
    "    return fresults"
   ]
  },
  {
   "cell_type": "code",
   "execution_count": 18,
   "id": "6eedcfe2",
   "metadata": {},
   "outputs": [],
   "source": [
    "my_programs = get_files_titan_xml()"
   ]
  },
  {
   "cell_type": "code",
   "execution_count": 19,
   "id": "37354350",
   "metadata": {},
   "outputs": [
    {
     "data": {
      "text/plain": [
       "[]"
      ]
     },
     "execution_count": 19,
     "metadata": {},
     "output_type": "execute_result"
    }
   ],
   "source": [
    "my_programs"
   ]
  },
  {
   "cell_type": "code",
   "execution_count": 7,
   "id": "21d76c3e",
   "metadata": {},
   "outputs": [],
   "source": [
    "class TITAN:\n",
    "    def _convert_gmt_local(self):\n",
    "        #print(self.doc)\n",
    "        self.gmt_start_time= self.doc['tv-program-info']['program']['start-time']\n",
    "        self.gmt_start_date= self.doc['tv-program-info']['program']['start-date']\n",
    "        self.gmt_end_time= self.doc['tv-program-info']['program']['end-time']\n",
    "        self.gmt_end_date= self.doc['tv-program-info']['program']['end-date']\n",
    "        print (self.gmt_start_date, self.gmt_start_time)\n",
    "        \n",
    "\n",
    "\n",
    "\n",
    "\n",
    "        \n",
    "    def __init__(self, file):\n",
    "        print('init')\n",
    "        with open(file) as fd:\n",
    "            self.doc = xmltodict.parse(fd.read())\n",
    "        self_localtime = self._convert_gmt_local()\n",
    "        \n",
    "    \n",
    "    \n",
    "    def title(self):\n",
    "        self.title = self.doc['tv-program-info']['program']['program-title'].replace(' ', '_')\n",
    "        return self.title\n",
    "    \n",
    "    def start_time(self):\n",
    "        self.start_time= self.doc['tv-program-info']['program']['start-time']\n",
    "        return self.start_time\n",
    "    \n",
    "    def start_date(self):\n",
    "        self.start_date= self.doc['tv-program-info']['program']['start-date']\n",
    "        return self.start_date\n",
    "    \n",
    "    def info(self):\n",
    "        self.info = self.doc['tv-program-info']['program']\n",
    "        print(self.info)\n",
    "    \n",
    "    def end_time(self):\n",
    "        pass\n",
    "    def end_date(self):\n",
    "        pass\n",
    "    def duration(self):\n",
    "        self.duration= self.doc['tv-program-info']['program']['duration']\n",
    "        return self.duration"
   ]
  },
  {
   "cell_type": "code",
   "execution_count": 8,
   "id": "9de34930",
   "metadata": {},
   "outputs": [],
   "source": [
    "def examine_dates_titan(programs):\n",
    "    for program in programs:\n",
    "        print(program)\n",
    "        t=TITAN(program)\n",
    "        title = t.title()\n",
    "        print(title)\n",
    "        print(t.duration())\n",
    "        print(t.start_date())\n",
    "        print(t.start_time())\n",
    "        #t.info()\n",
    "    \n",
    "        "
   ]
  },
  {
   "cell_type": "code",
   "execution_count": 9,
   "id": "ecdef6b4",
   "metadata": {},
   "outputs": [
    {
     "name": "stdout",
     "output_type": "stream",
     "text": [
      "/home/tony/tv/titan/Dr._Phil.xml\n",
      "init\n",
      "20221214 21:00\n",
      "Dr._Phil\n",
      "00:58\n",
      "20221214\n",
      "21:00\n",
      "/home/tony/tv/titan/The_Price_Is_Right.xml\n",
      "init\n",
      "20221214 16:00\n",
      "The_Price_Is_Right\n",
      "01:00\n",
      "20221214\n",
      "16:00\n",
      "/home/tony/tv/titan/The_Talk.xml\n",
      "init\n",
      "20221214 19:00\n",
      "The_Talk\n",
      "01:00\n",
      "20221214\n",
      "19:00\n"
     ]
    }
   ],
   "source": [
    "examine_dates_titan(my_programs)"
   ]
  },
  {
   "cell_type": "code",
   "execution_count": 10,
   "id": "a88d8903",
   "metadata": {},
   "outputs": [
    {
     "name": "stdout",
     "output_type": "stream",
     "text": [
      "Dr._Phil.xml  The_Price_Is_Right.xml  The_Talk.xml\r\n"
     ]
    }
   ],
   "source": [
    "! ls /home/tony/tv/titan/"
   ]
  },
  {
   "cell_type": "code",
   "execution_count": 11,
   "id": "918fb600",
   "metadata": {},
   "outputs": [
    {
     "name": "stdout",
     "output_type": "stream",
     "text": [
      "junk.txt\r\n"
     ]
    }
   ],
   "source": [
    "!ls /home/tony/Downloads/"
   ]
  },
  {
   "cell_type": "code",
   "execution_count": 12,
   "id": "8e2dde48",
   "metadata": {},
   "outputs": [
    {
     "name": "stdout",
     "output_type": "stream",
     "text": [
      "202212141500\n"
     ]
    }
   ],
   "source": [
    "from zoneinfo import ZoneInfo\n",
    "from datetime import datetime, timezone\n",
    "\n",
    "time = \"Jun 2012 14:03:10 GMT\"\n",
    "time = \"20221214 21:00 GMT\"\n",
    "\n",
    "\n",
    "# parse to datetime, using %Z for the time zone abbreviation\n",
    "dtobj = datetime.strptime(time, '%Y%m%d %H:%M %Z')\n",
    "\n",
    "# note that \"GMT\" (=UTC) is ignored:\n",
    "# datetime.datetime(2012, 6, 12, 14, 3, 10)\n",
    "\n",
    "# ...so let's correct that:\n",
    "dtobj = dtobj.replace(tzinfo=timezone.utc)\n",
    "# datetime.datetime(2012, 6, 12, 14, 3, 10, tzinfo=datetime.timezone.utc)\n",
    "\n",
    "# convert to US/Eastern (EST or EDT, depending on time of the year)\n",
    "dtobj = dtobj.astimezone(ZoneInfo('US/Central'))\n",
    "# datetime.datetime(2012, 6, 12, 10, 3, 10, tzinfo=zoneinfo.ZoneInfo(key='US/Eastern'))\n",
    "a = dtobj\n",
    "print(a.strftime('%Y%m%d%H%M'))\n",
    "# 2012-06-12 10:03:10-04:00\n"
   ]
  },
  {
   "cell_type": "code",
   "execution_count": 13,
   "id": "61b0f6d7",
   "metadata": {},
   "outputs": [
    {
     "ename": "ValueError",
     "evalue": "time data '20221214 21:00 GMT' does not match format '%b %Y %H:%M:%S %Z'",
     "output_type": "error",
     "traceback": [
      "\u001b[0;31m---------------------------------------------------------------------------\u001b[0m",
      "\u001b[0;31mValueError\u001b[0m                                Traceback (most recent call last)",
      "Cell \u001b[0;32mIn[13], line 4\u001b[0m\n\u001b[1;32m      1\u001b[0m ime \u001b[38;5;241m=\u001b[39m \u001b[38;5;124m\"\u001b[39m\u001b[38;5;124mJun 2012 14:03:10 GMT\u001b[39m\u001b[38;5;124m\"\u001b[39m\n\u001b[1;32m      3\u001b[0m \u001b[38;5;66;03m# parse to datetime, using %Z for the time zone abbreviation\u001b[39;00m\n\u001b[0;32m----> 4\u001b[0m dtobj \u001b[38;5;241m=\u001b[39m \u001b[43mdatetime\u001b[49m\u001b[38;5;241;43m.\u001b[39;49m\u001b[43mstrptime\u001b[49m\u001b[43m(\u001b[49m\u001b[43mtime\u001b[49m\u001b[43m,\u001b[49m\u001b[43m \u001b[49m\u001b[38;5;124;43m'\u001b[39;49m\u001b[38;5;124;43m%\u001b[39;49m\u001b[38;5;124;43mb \u001b[39;49m\u001b[38;5;124;43m%\u001b[39;49m\u001b[38;5;124;43mY \u001b[39;49m\u001b[38;5;124;43m%\u001b[39;49m\u001b[38;5;124;43mH:\u001b[39;49m\u001b[38;5;124;43m%\u001b[39;49m\u001b[38;5;124;43mM:\u001b[39;49m\u001b[38;5;124;43m%\u001b[39;49m\u001b[38;5;124;43mS \u001b[39;49m\u001b[38;5;124;43m%\u001b[39;49m\u001b[38;5;124;43mZ\u001b[39;49m\u001b[38;5;124;43m'\u001b[39;49m\u001b[43m)\u001b[49m\n\u001b[1;32m      6\u001b[0m \u001b[38;5;66;03m# note that \"GMT\" (=UTC) is ignored:\u001b[39;00m\n\u001b[1;32m      7\u001b[0m \u001b[38;5;66;03m# datetime.datetime(2012, 6, 12, 14, 3, 10)\u001b[39;00m\n\u001b[1;32m      8\u001b[0m \n\u001b[1;32m      9\u001b[0m \u001b[38;5;66;03m# ...so let's correct that:\u001b[39;00m\n\u001b[1;32m     10\u001b[0m dtobj \u001b[38;5;241m=\u001b[39m dtobj\u001b[38;5;241m.\u001b[39mreplace(tzinfo\u001b[38;5;241m=\u001b[39mtimezone\u001b[38;5;241m.\u001b[39mutc)\n",
      "File \u001b[0;32m/data/miniconda3/envs/tv/lib/python3.10/_strptime.py:568\u001b[0m, in \u001b[0;36m_strptime_datetime\u001b[0;34m(cls, data_string, format)\u001b[0m\n\u001b[1;32m    565\u001b[0m \u001b[38;5;28;01mdef\u001b[39;00m \u001b[38;5;21m_strptime_datetime\u001b[39m(\u001b[38;5;28mcls\u001b[39m, data_string, \u001b[38;5;28mformat\u001b[39m\u001b[38;5;241m=\u001b[39m\u001b[38;5;124m\"\u001b[39m\u001b[38;5;132;01m%a\u001b[39;00m\u001b[38;5;124m \u001b[39m\u001b[38;5;124m%\u001b[39m\u001b[38;5;124mb \u001b[39m\u001b[38;5;132;01m%d\u001b[39;00m\u001b[38;5;124m \u001b[39m\u001b[38;5;124m%\u001b[39m\u001b[38;5;124mH:\u001b[39m\u001b[38;5;124m%\u001b[39m\u001b[38;5;124mM:\u001b[39m\u001b[38;5;124m%\u001b[39m\u001b[38;5;124mS \u001b[39m\u001b[38;5;124m%\u001b[39m\u001b[38;5;124mY\u001b[39m\u001b[38;5;124m\"\u001b[39m):\n\u001b[1;32m    566\u001b[0m     \u001b[38;5;124;03m\"\"\"Return a class cls instance based on the input string and the\u001b[39;00m\n\u001b[1;32m    567\u001b[0m \u001b[38;5;124;03m    format string.\"\"\"\u001b[39;00m\n\u001b[0;32m--> 568\u001b[0m     tt, fraction, gmtoff_fraction \u001b[38;5;241m=\u001b[39m \u001b[43m_strptime\u001b[49m\u001b[43m(\u001b[49m\u001b[43mdata_string\u001b[49m\u001b[43m,\u001b[49m\u001b[43m \u001b[49m\u001b[38;5;28;43mformat\u001b[39;49m\u001b[43m)\u001b[49m\n\u001b[1;32m    569\u001b[0m     tzname, gmtoff \u001b[38;5;241m=\u001b[39m tt[\u001b[38;5;241m-\u001b[39m\u001b[38;5;241m2\u001b[39m:]\n\u001b[1;32m    570\u001b[0m     args \u001b[38;5;241m=\u001b[39m tt[:\u001b[38;5;241m6\u001b[39m] \u001b[38;5;241m+\u001b[39m (fraction,)\n",
      "File \u001b[0;32m/data/miniconda3/envs/tv/lib/python3.10/_strptime.py:349\u001b[0m, in \u001b[0;36m_strptime\u001b[0;34m(data_string, format)\u001b[0m\n\u001b[1;32m    347\u001b[0m found \u001b[38;5;241m=\u001b[39m format_regex\u001b[38;5;241m.\u001b[39mmatch(data_string)\n\u001b[1;32m    348\u001b[0m \u001b[38;5;28;01mif\u001b[39;00m \u001b[38;5;129;01mnot\u001b[39;00m found:\n\u001b[0;32m--> 349\u001b[0m     \u001b[38;5;28;01mraise\u001b[39;00m \u001b[38;5;167;01mValueError\u001b[39;00m(\u001b[38;5;124m\"\u001b[39m\u001b[38;5;124mtime data \u001b[39m\u001b[38;5;132;01m%r\u001b[39;00m\u001b[38;5;124m does not match format \u001b[39m\u001b[38;5;132;01m%r\u001b[39;00m\u001b[38;5;124m\"\u001b[39m \u001b[38;5;241m%\u001b[39m\n\u001b[1;32m    350\u001b[0m                      (data_string, \u001b[38;5;28mformat\u001b[39m))\n\u001b[1;32m    351\u001b[0m \u001b[38;5;28;01mif\u001b[39;00m \u001b[38;5;28mlen\u001b[39m(data_string) \u001b[38;5;241m!=\u001b[39m found\u001b[38;5;241m.\u001b[39mend():\n\u001b[1;32m    352\u001b[0m     \u001b[38;5;28;01mraise\u001b[39;00m \u001b[38;5;167;01mValueError\u001b[39;00m(\u001b[38;5;124m\"\u001b[39m\u001b[38;5;124munconverted data remains: \u001b[39m\u001b[38;5;132;01m%s\u001b[39;00m\u001b[38;5;124m\"\u001b[39m \u001b[38;5;241m%\u001b[39m\n\u001b[1;32m    353\u001b[0m                       data_string[found\u001b[38;5;241m.\u001b[39mend():])\n",
      "\u001b[0;31mValueError\u001b[0m: time data '20221214 21:00 GMT' does not match format '%b %Y %H:%M:%S %Z'"
     ]
    }
   ],
   "source": [
    "ime = \"Jun 2012 14:03:10 GMT\"\n",
    "\n",
    "# parse to datetime, using %Z for the time zone abbreviation\n",
    "dtobj = datetime.strptime(time, '%b %Y %H:%M:%S %Z')\n",
    "\n",
    "# note that \"GMT\" (=UTC) is ignored:\n",
    "# datetime.datetime(2012, 6, 12, 14, 3, 10)\n",
    "\n",
    "# ...so let's correct that:\n",
    "dtobj = dtobj.replace(tzinfo=timezone.utc)\n",
    "# datetime.datetime(2012, 6, 12, 14, 3, 10, tzinfo=datetime.timezone.utc)\n",
    "\n",
    "# convert to US/Eastern (EST or EDT, depending on time of the year)\n",
    "dtobj = dtobj.astimezone(ZoneInfo('US/Central'))\n",
    "# datetime.datetime(2012, 6, 12, 10, 3, 10, tzinfo=zoneinfo.ZoneInfo(key='US/Eastern'))\n",
    "print(dtobj)\n",
    "# 2012-06-12 10:03:10-04:00\n"
   ]
  },
  {
   "cell_type": "code",
   "execution_count": null,
   "id": "af274e40",
   "metadata": {},
   "outputs": [],
   "source": [
    "! echo hi toney > /tmp/a.txt | at -t 202212141500 "
   ]
  },
  {
   "cell_type": "code",
   "execution_count": null,
   "id": "cc4ad279",
   "metadata": {},
   "outputs": [],
   "source": [
    "! echo hi 1113 toney > /tmp/a.txt | at -t 202212141113"
   ]
  },
  {
   "cell_type": "code",
   "execution_count": null,
   "id": "72714ec7",
   "metadata": {},
   "outputs": [],
   "source": [
    "! date"
   ]
  },
  {
   "cell_type": "code",
   "execution_count": null,
   "id": "a1a06097",
   "metadata": {},
   "outputs": [],
   "source": [
    "cmd =  'at -t 202212141202 -f /tmp/a.sh'"
   ]
  },
  {
   "cell_type": "code",
   "execution_count": null,
   "id": "b553e01c",
   "metadata": {},
   "outputs": [],
   "source": [
    "os.system(cmd)"
   ]
  },
  {
   "cell_type": "code",
   "execution_count": null,
   "id": "9a878f0d",
   "metadata": {},
   "outputs": [],
   "source": [
    "! cat /tmp/a.txt"
   ]
  },
  {
   "cell_type": "code",
   "execution_count": null,
   "id": "82c89928",
   "metadata": {},
   "outputs": [],
   "source": [
    "!date"
   ]
  },
  {
   "cell_type": "code",
   "execution_count": null,
   "id": "a7201b2d",
   "metadata": {},
   "outputs": [],
   "source": []
  }
 ],
 "metadata": {
  "kernelspec": {
   "display_name": "Python 3 (ipykernel)",
   "language": "python",
   "name": "python3"
  },
  "language_info": {
   "codemirror_mode": {
    "name": "ipython",
    "version": 3
   },
   "file_extension": ".py",
   "mimetype": "text/x-python",
   "name": "python",
   "nbconvert_exporter": "python",
   "pygments_lexer": "ipython3",
   "version": "3.10.8"
  }
 },
 "nbformat": 4,
 "nbformat_minor": 5
}
