{
 "cells": [
  {
   "cell_type": "code",
   "execution_count": 1,
   "id": "48f14945",
   "metadata": {},
   "outputs": [],
   "source": [
    "from classes import TITAN, get_files_titan_xml, state_recording"
   ]
  },
  {
   "cell_type": "code",
   "execution_count": 2,
   "id": "e6aa6a8f",
   "metadata": {},
   "outputs": [],
   "source": [
    "my_programs = get_files_titan_xml()"
   ]
  },
  {
   "cell_type": "code",
   "execution_count": 3,
   "id": "4f5f2feb",
   "metadata": {},
   "outputs": [
    {
     "data": {
      "text/plain": [
       "['/home/tony/tv/titan/CSI:_Vegas.xml',\n",
       " \"/home/tony/tv/titan/CBS_Evening_News_with_Norah_O'Donnell.xml\",\n",
       " '/home/tony/tv/titan/The_Late_Show_with_Stephen_Colbert.xml',\n",
       " '/home/tony/tv/titan/KELOLAND_News_First_@_4.xml',\n",
       " '/home/tony/tv/titan/So_Help_Me_Todd.xml',\n",
       " '/home/tony/tv/titan/Entertainment_Tonight.xml',\n",
       " '/home/tony/tv/titan/KELOLAND_News_at_Five.xml']"
      ]
     },
     "execution_count": 3,
     "metadata": {},
     "output_type": "execute_result"
    }
   ],
   "source": [
    "my_programs"
   ]
  },
  {
   "cell_type": "code",
   "execution_count": 4,
   "id": "23abdcae",
   "metadata": {},
   "outputs": [
    {
     "data": {
      "text/plain": [
       "'/home/tony/tv/titan/CSI:_Vegas.xml'"
      ]
     },
     "execution_count": 4,
     "metadata": {},
     "output_type": "execute_result"
    }
   ],
   "source": [
    "p = my_programs[0]\n",
    "\n",
    "p"
   ]
  },
  {
   "cell_type": "code",
   "execution_count": 5,
   "id": "6ca0f11f",
   "metadata": {},
   "outputs": [],
   "source": [
    "t = TITAN(p)"
   ]
  },
  {
   "cell_type": "code",
   "execution_count": 6,
   "id": "1642199c",
   "metadata": {},
   "outputs": [
    {
     "data": {
      "text/plain": [
       "'202212152100'"
      ]
     },
     "execution_count": 6,
     "metadata": {},
     "output_type": "execute_result"
    }
   ],
   "source": [
    "t.start_time()"
   ]
  },
  {
   "cell_type": "markdown",
   "id": "7dacadd7",
   "metadata": {},
   "source": [
    "# titan recorder\n",
    "\n"
   ]
  },
  {
   "cell_type": "code",
   "execution_count": 7,
   "id": "c01eb40a",
   "metadata": {},
   "outputs": [
    {
     "data": {
      "text/plain": [
       "'CSI:_Vegas'"
      ]
     },
     "execution_count": 7,
     "metadata": {},
     "output_type": "execute_result"
    }
   ],
   "source": [
    "t.title()"
   ]
  },
  {
   "cell_type": "code",
   "execution_count": 8,
   "id": "b84ed3c9",
   "metadata": {},
   "outputs": [],
   "source": [
    "video_dir = '/home/tony/tv/video'\n",
    "my_title = t.title()\n",
    "# type(my_title)\n",
    "mpg_file = f'{video_dir}/{my_title}.mpg'"
   ]
  },
  {
   "cell_type": "code",
   "execution_count": 9,
   "id": "c6d77448",
   "metadata": {},
   "outputs": [],
   "source": [
    "#! mkdir /home/tony/tv/video"
   ]
  },
  {
   "cell_type": "code",
   "execution_count": 10,
   "id": "4b7fc1ba",
   "metadata": {},
   "outputs": [
    {
     "data": {
      "text/plain": [
       "'/home/tony/tv/video/CSI:_Vegas.mpg'"
      ]
     },
     "execution_count": 10,
     "metadata": {},
     "output_type": "execute_result"
    }
   ],
   "source": [
    "mpg_file"
   ]
  },
  {
   "cell_type": "code",
   "execution_count": 11,
   "id": "86c12e74",
   "metadata": {},
   "outputs": [],
   "source": [
    "import subprocess\n",
    "\n",
    "def schedule_record(program_xml, time_str):\n",
    "    cmd=f'echo ./tr.sh  {program_xml}| at -t {time_str}'\n",
    "    mycmd=subprocess.getoutput(cmd)\n",
    "    print(mycmd)"
   ]
  },
  {
   "cell_type": "code",
   "execution_count": 13,
   "id": "9793e198",
   "metadata": {},
   "outputs": [
    {
     "name": "stdout",
     "output_type": "stream",
     "text": [
      "/home/tony/tv/titan/CSI:_Vegas.xml\n",
      "202212152100\n",
      "warning: commands will be executed using /bin/sh\n",
      "job 1 at Thu Dec 15 21:00:00 2022\n",
      "/home/tony/tv/titan/CBS_Evening_News_with_Norah_O'Donnell.xml\n",
      "202212151730\n",
      "/bin/sh: 1: Syntax error: Unterminated quoted string\n",
      "/home/tony/tv/titan/The_Late_Show_with_Stephen_Colbert.xml\n",
      "202212152235\n",
      "warning: commands will be executed using /bin/sh\n",
      "job 2 at Thu Dec 15 22:35:00 2022\n",
      "/home/tony/tv/titan/KELOLAND_News_First_@_4.xml\n",
      "202212151558\n",
      "warning: commands will be executed using /bin/sh\n",
      "job 3 at Thu Dec 15 15:58:00 2022\n",
      "/home/tony/tv/titan/So_Help_Me_Todd.xml\n",
      "202212152000\n",
      "warning: commands will be executed using /bin/sh\n",
      "job 4 at Thu Dec 15 20:00:00 2022\n",
      "/home/tony/tv/titan/Entertainment_Tonight.xml\n",
      "202212151830\n",
      "warning: commands will be executed using /bin/sh\n",
      "job 5 at Thu Dec 15 18:30:00 2022\n",
      "/home/tony/tv/titan/KELOLAND_News_at_Five.xml\n",
      "202212151658\n",
      "warning: commands will be executed using /bin/sh\n",
      "job 6 at Thu Dec 15 16:58:00 2022\n"
     ]
    }
   ],
   "source": [
    "for p in my_programs:\n",
    "    print(p)\n",
    "    t = TITAN(p)\n",
    "    start_time = t.start_time()\n",
    "    print(start_time)\n",
    "    schedule_record(p, start_time)"
   ]
  },
  {
   "cell_type": "code",
   "execution_count": 14,
   "id": "900cf477",
   "metadata": {},
   "outputs": [
    {
     "name": "stdout",
     "output_type": "stream",
     "text": [
      "6\tThu Dec 15 16:58:00 2022 a tony\r\n",
      "3\tThu Dec 15 15:58:00 2022 a tony\r\n",
      "2\tThu Dec 15 22:35:00 2022 a tony\r\n",
      "5\tThu Dec 15 18:30:00 2022 a tony\r\n",
      "1\tThu Dec 15 21:00:00 2022 a tony\r\n",
      "4\tThu Dec 15 20:00:00 2022 a tony\r\n"
     ]
    }
   ],
   "source": [
    "! atq"
   ]
  },
  {
   "cell_type": "code",
   "execution_count": 15,
   "id": "621a6c81",
   "metadata": {},
   "outputs": [
    {
     "name": "stdout",
     "output_type": "stream",
     "text": [
      "/home/tony/tv/titan/CSI:_Vegas.xml\n",
      "60\n",
      "/home/tony/tv/titan/CBS_Evening_News_with_Norah_O'Donnell.xml\n",
      "30\n",
      "/home/tony/tv/titan/The_Late_Show_with_Stephen_Colbert.xml\n",
      "62\n",
      "/home/tony/tv/titan/KELOLAND_News_First_@_4.xml\n",
      "60\n",
      "/home/tony/tv/titan/So_Help_Me_Todd.xml\n",
      "60\n",
      "/home/tony/tv/titan/Entertainment_Tonight.xml\n",
      "30\n",
      "/home/tony/tv/titan/KELOLAND_News_at_Five.xml\n",
      "32\n"
     ]
    }
   ],
   "source": [
    "for p in my_programs:\n",
    "    print(p)\n",
    "    t=TITAN(p)\n",
    "    print(t.duration())"
   ]
  },
  {
   "cell_type": "code",
   "execution_count": 16,
   "id": "3f9d6378",
   "metadata": {},
   "outputs": [
    {
     "name": "stdout",
     "output_type": "stream",
     "text": [
      "/home/tony/tv/titan/CSI:_Vegas.xml\n",
      "/home/tony/tv/titan/CBS_Evening_News_with_Norah_O'Donnell.xml\n",
      "/home/tony/tv/titan/The_Late_Show_with_Stephen_Colbert.xml\n",
      "/home/tony/tv/titan/KELOLAND_News_First_@_4.xml\n",
      "/home/tony/tv/titan/So_Help_Me_Todd.xml\n",
      "/home/tony/tv/titan/Entertainment_Tonight.xml\n",
      "/home/tony/tv/titan/KELOLAND_News_at_Five.xml\n"
     ]
    }
   ],
   "source": [
    "for p in my_programs:\n",
    "    print(p)\n",
    "    #state_recording(p)"
   ]
  },
  {
   "cell_type": "code",
   "execution_count": 17,
   "id": "7b692761",
   "metadata": {},
   "outputs": [
    {
     "name": "stdout",
     "output_type": "stream",
     "text": [
      "hdhomerun device 107078C9 found at 192.168.0.93\r\n",
      "hdhomerun device 10337F65 found at 192.168.0.90\r\n"
     ]
    }
   ],
   "source": [
    "! hdhomerun_config discover"
   ]
  },
  {
   "cell_type": "code",
   "execution_count": null,
   "id": "19f0529f",
   "metadata": {},
   "outputs": [],
   "source": []
  }
 ],
 "metadata": {
  "kernelspec": {
   "display_name": "Python 3 (ipykernel)",
   "language": "python",
   "name": "python3"
  },
  "language_info": {
   "codemirror_mode": {
    "name": "ipython",
    "version": 3
   },
   "file_extension": ".py",
   "mimetype": "text/x-python",
   "name": "python",
   "nbconvert_exporter": "python",
   "pygments_lexer": "ipython3",
   "version": "3.10.8"
  }
 },
 "nbformat": 4,
 "nbformat_minor": 5
}
