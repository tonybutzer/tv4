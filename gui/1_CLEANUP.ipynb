{
 "cells": [
  {
   "cell_type": "markdown",
   "id": "c1e5dcc5",
   "metadata": {},
   "source": [
    "# CLEANUP ALL TITAN\n"
   ]
  },
  {
   "cell_type": "code",
   "execution_count": 3,
   "id": "769ba27d",
   "metadata": {},
   "outputs": [
    {
     "name": "stdout",
     "output_type": "stream",
     "text": [
      "rm: cannot remove '/home/tony/tv/titan/*.xml': No such file or directory\r\n"
     ]
    }
   ],
   "source": [
    "! rm ~/tv/titan/*.xml"
   ]
  },
  {
   "cell_type": "code",
   "execution_count": 4,
   "id": "875b9bbe",
   "metadata": {},
   "outputs": [],
   "source": [
    "! rm /home/tony/tv/titan/recording/*.xml"
   ]
  },
  {
   "cell_type": "code",
   "execution_count": null,
   "id": "6cccfa8a",
   "metadata": {},
   "outputs": [],
   "source": []
  }
 ],
 "metadata": {
  "kernelspec": {
   "display_name": "Python 3 (ipykernel)",
   "language": "python",
   "name": "python3"
  },
  "language_info": {
   "codemirror_mode": {
    "name": "ipython",
    "version": 3
   },
   "file_extension": ".py",
   "mimetype": "text/x-python",
   "name": "python",
   "nbconvert_exporter": "python",
   "pygments_lexer": "ipython3",
   "version": "3.10.8"
  }
 },
 "nbformat": 4,
 "nbformat_minor": 5
}
