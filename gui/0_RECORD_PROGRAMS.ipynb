{
 "cells": [
  {
   "cell_type": "code",
   "execution_count": 1,
   "id": "48f14945",
   "metadata": {},
   "outputs": [],
   "source": [
    "from classes import TITAN, get_files_titan_xml, uniquify, state_record_todo"
   ]
  },
  {
   "cell_type": "code",
   "execution_count": 2,
   "id": "95ad2048",
   "metadata": {},
   "outputs": [
    {
     "name": "stdout",
     "output_type": "stream",
     "text": [
      "/home/tony/Downloads/program.tvpi\n",
      "Dateline\n",
      "/home/tony/tv/todo/Dateline.xml\n",
      "/home/tony/tv/todo/Dateline.xml\n",
      "Dateline\n",
      "/home/tony/tv/titan/Dateline.xml\n"
     ]
    }
   ],
   "source": [
    "short_list = state_record_todo() # sets up xml files in queue"
   ]
  },
  {
   "cell_type": "code",
   "execution_count": 3,
   "id": "e6aa6a8f",
   "metadata": {},
   "outputs": [],
   "source": [
    "my_programs = short_list"
   ]
  },
  {
   "cell_type": "code",
   "execution_count": 4,
   "id": "4f5f2feb",
   "metadata": {},
   "outputs": [
    {
     "data": {
      "text/plain": [
       "['/home/tony/tv/titan/Dateline.xml']"
      ]
     },
     "execution_count": 4,
     "metadata": {},
     "output_type": "execute_result"
    }
   ],
   "source": [
    "my_programs"
   ]
  },
  {
   "cell_type": "code",
   "execution_count": 5,
   "id": "23abdcae",
   "metadata": {},
   "outputs": [
    {
     "data": {
      "text/plain": [
       "'/home/tony/tv/titan/Dateline.xml'"
      ]
     },
     "execution_count": 5,
     "metadata": {},
     "output_type": "execute_result"
    }
   ],
   "source": [
    "p = my_programs[0]\n",
    "\n",
    "p"
   ]
  },
  {
   "cell_type": "code",
   "execution_count": 6,
   "id": "6ca0f11f",
   "metadata": {},
   "outputs": [],
   "source": [
    "t = TITAN(p)"
   ]
  },
  {
   "cell_type": "code",
   "execution_count": 7,
   "id": "1642199c",
   "metadata": {},
   "outputs": [
    {
     "data": {
      "text/plain": [
       "'202212212000'"
      ]
     },
     "execution_count": 7,
     "metadata": {},
     "output_type": "execute_result"
    }
   ],
   "source": [
    "t.start_time()"
   ]
  },
  {
   "cell_type": "markdown",
   "id": "7dacadd7",
   "metadata": {},
   "source": [
    "# titan recorder\n",
    "\n"
   ]
  },
  {
   "cell_type": "code",
   "execution_count": 8,
   "id": "c01eb40a",
   "metadata": {},
   "outputs": [
    {
     "data": {
      "text/plain": [
       "'Dateline'"
      ]
     },
     "execution_count": 8,
     "metadata": {},
     "output_type": "execute_result"
    }
   ],
   "source": [
    "t.title()"
   ]
  },
  {
   "cell_type": "code",
   "execution_count": 9,
   "id": "b84ed3c9",
   "metadata": {},
   "outputs": [],
   "source": [
    "video_dir = '/home/tony/tv/video'\n",
    "my_title = t.title()\n",
    "# type(my_title)\n",
    "mpg_file = f'{video_dir}/{my_title}.mpg'"
   ]
  },
  {
   "cell_type": "code",
   "execution_count": 10,
   "id": "c6d77448",
   "metadata": {},
   "outputs": [],
   "source": [
    "#! mkdir /home/tony/tv/video"
   ]
  },
  {
   "cell_type": "code",
   "execution_count": 11,
   "id": "4b7fc1ba",
   "metadata": {},
   "outputs": [
    {
     "data": {
      "text/plain": [
       "'/home/tony/tv/video/Dateline.mpg'"
      ]
     },
     "execution_count": 11,
     "metadata": {},
     "output_type": "execute_result"
    }
   ],
   "source": [
    "mpg_file"
   ]
  },
  {
   "cell_type": "code",
   "execution_count": 12,
   "id": "86c12e74",
   "metadata": {},
   "outputs": [],
   "source": [
    "import subprocess\n",
    "\n",
    "def schedule_record(program_xml, time_str):\n",
    "    cmd=f'echo ./tr.sh  {program_xml}| at -t {time_str}'\n",
    "    mycmd=subprocess.getoutput(cmd)\n",
    "    print(mycmd)"
   ]
  },
  {
   "cell_type": "code",
   "execution_count": 13,
   "id": "9793e198",
   "metadata": {},
   "outputs": [
    {
     "name": "stdout",
     "output_type": "stream",
     "text": [
      "/home/tony/tv/titan/Dateline.xml\n",
      "202212212000\n",
      "warning: commands will be executed using /bin/sh\n",
      "job 74 at Wed Dec 21 20:00:00 2022\n"
     ]
    }
   ],
   "source": [
    "for p in my_programs:\n",
    "    print(p)\n",
    "    t = TITAN(p)\n",
    "    start_time = t.start_time()\n",
    "    print(start_time)\n",
    "    schedule_record(p, start_time)"
   ]
  },
  {
   "cell_type": "code",
   "execution_count": 14,
   "id": "900cf477",
   "metadata": {},
   "outputs": [
    {
     "name": "stdout",
     "output_type": "stream",
     "text": [
      "73\tWed Dec 21 21:00:00 2022 a tony\n",
      "74\tWed Dec 21 20:00:00 2022 = tony\n"
     ]
    }
   ],
   "source": [
    "! atq"
   ]
  },
  {
   "cell_type": "code",
   "execution_count": 15,
   "id": "621a6c81",
   "metadata": {},
   "outputs": [
    {
     "name": "stdout",
     "output_type": "stream",
     "text": [
      "/home/tony/tv/titan/Dateline.xml\n",
      "60\n"
     ]
    }
   ],
   "source": [
    "for p in my_programs:\n",
    "    print(p)\n",
    "    t=TITAN(p)\n",
    "    print(t.duration())"
   ]
  },
  {
   "cell_type": "code",
   "execution_count": null,
   "id": "7b692761",
   "metadata": {},
   "outputs": [],
   "source": []
  },
  {
   "cell_type": "code",
   "execution_count": null,
   "id": "d7545773",
   "metadata": {},
   "outputs": [],
   "source": []
  }
 ],
 "metadata": {
  "kernelspec": {
   "display_name": "Python 3 (ipykernel)",
   "language": "python",
   "name": "python3"
  },
  "language_info": {
   "codemirror_mode": {
    "name": "ipython",
    "version": 3
   },
   "file_extension": ".py",
   "mimetype": "text/x-python",
   "name": "python",
   "nbconvert_exporter": "python",
   "pygments_lexer": "ipython3",
   "version": "3.10.8"
  }
 },
 "nbformat": 4,
 "nbformat_minor": 5
}
