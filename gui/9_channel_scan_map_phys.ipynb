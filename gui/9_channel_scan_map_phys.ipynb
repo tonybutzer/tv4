{
 "cells": [
  {
   "cell_type": "code",
   "execution_count": 1,
   "id": "8f871932",
   "metadata": {},
   "outputs": [
    {
     "name": "stdout",
     "output_type": "stream",
     "text": [
      "channel\n",
      "   human_channel   freq  phys  sub             station\n",
      "0           36.1   8vsb    36    1             KWSD-TV\n",
      "1           14.1   8vsb    32    3      Dabl-(no-data)\n",
      "2           14.2   8vsb    32    4             Charge!\n",
      "3           14.3   8vsb    32    5     Comet-(no-data)\n",
      "4           14.4   8vsb    32    6   Stadium-(no-data)\n",
      "hello\n"
     ]
    }
   ],
   "source": [
    "from classes import CHANNEL\n",
    "\n",
    "c = CHANNEL()\n"
   ]
  },
  {
   "cell_type": "code",
   "execution_count": 2,
   "id": "6f34fc66",
   "metadata": {},
   "outputs": [
    {
     "name": "stdout",
     "output_type": "stream",
     "text": [
      "human_channel,freq,phys,sub,station\r\n",
      "36.1, 8vsb, 36, 1, KWSD-TV\r\n",
      "14.1, 8vsb, 32, 3, Dabl-(no-data)\r\n",
      "14.2, 8vsb, 32, 4, Charge!\r\n",
      "14.3, 8vsb, 32, 5, Comet-(no-data)\r\n",
      "14.4, 8vsb, 32, 6, Stadium-(no-data)\r\n",
      "44.1, 8vsb, 30, 3, FOX-(no-data)\r\n",
      "44.2, 8vsb, 30, 4, MyNet\r\n",
      "44.3, 8vsb, 30, 5, CBS-(no-data)\r\n",
      "46.1, 8vsb, 21, 3, KDLT-TV\r\n",
      "46.2, 8vsb, 21, 4, FOX\r\n",
      "46.3, 8vsb, 21, 5, Antenna\r\n",
      "46.4, 8vsb, 21, 6, Cozi\r\n",
      "46.5, 8vsb, 21, 7, Court\r\n",
      "15.1, 8vsb, 20, 3, KABY-LD\r\n",
      "15.2, 8vsb, 20, 4, CW\r\n",
      "15.3, 8vsb, 20, 5, MeTV\r\n",
      "15.4, 8vsb, 20, 6, T-Crime\r\n",
      "15.5, 8vsb, 20, 7, Grio\r\n",
      "13.1, 8vsb, 13, 3, KSFY-TV\r\n",
      "13.2, 8vsb, 13, 4, CW\r\n",
      "13.3, 8vsb, 13, 5, MeTV\r\n",
      "13.4, 8vsb, 13, 6, T-Crime\r\n",
      "13.5, 8vsb, 13, 7, Grio\r\n"
     ]
    }
   ],
   "source": [
    "! cat channels.csv"
   ]
  },
  {
   "cell_type": "code",
   "execution_count": 3,
   "id": "e646b6ac",
   "metadata": {},
   "outputs": [
    {
     "name": "stdout",
     "output_type": "stream",
     "text": [
      "   human_channel   freq  phys  sub station\n",
      "9           46.2   8vsb    21    4     FOX\n",
      "9    21\n",
      "Name: phys, dtype: int64\n",
      "9    4\n",
      "Name: sub, dtype: int64\n"
     ]
    }
   ],
   "source": [
    "c,s = c.phys(46.2)"
   ]
  },
  {
   "cell_type": "code",
   "execution_count": 5,
   "id": "3be6fd07",
   "metadata": {},
   "outputs": [
    {
     "data": {
      "text/plain": [
       "(21, 4)"
      ]
     },
     "execution_count": 5,
     "metadata": {},
     "output_type": "execute_result"
    }
   ],
   "source": [
    "c,s"
   ]
  },
  {
   "cell_type": "code",
   "execution_count": null,
   "id": "b1d10466",
   "metadata": {},
   "outputs": [],
   "source": [
    "type(df)"
   ]
  },
  {
   "cell_type": "code",
   "execution_count": null,
   "id": "aacc596d",
   "metadata": {},
   "outputs": [],
   "source": [
    "df.columns"
   ]
  },
  {
   "cell_type": "code",
   "execution_count": null,
   "id": "e165d174",
   "metadata": {},
   "outputs": [],
   "source": [
    "df['phys']"
   ]
  },
  {
   "cell_type": "code",
   "execution_count": null,
   "id": "f656fd7d",
   "metadata": {},
   "outputs": [],
   "source": [
    "# dir(df['sub'])"
   ]
  },
  {
   "cell_type": "code",
   "execution_count": null,
   "id": "20746e9e",
   "metadata": {},
   "outputs": [],
   "source": [
    "df['sub'].values[0]"
   ]
  },
  {
   "cell_type": "code",
   "execution_count": null,
   "id": "635a949b",
   "metadata": {},
   "outputs": [],
   "source": []
  }
 ],
 "metadata": {
  "kernelspec": {
   "display_name": "Python 3 (ipykernel)",
   "language": "python",
   "name": "python3"
  },
  "language_info": {
   "codemirror_mode": {
    "name": "ipython",
    "version": 3
   },
   "file_extension": ".py",
   "mimetype": "text/x-python",
   "name": "python",
   "nbconvert_exporter": "python",
   "pygments_lexer": "ipython3",
   "version": "3.10.8"
  }
 },
 "nbformat": 4,
 "nbformat_minor": 5
}
