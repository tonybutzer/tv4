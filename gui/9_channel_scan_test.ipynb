{
 "cells": [
  {
   "cell_type": "code",
   "execution_count": 1,
   "id": "6ee3a192",
   "metadata": {},
   "outputs": [
    {
     "name": "stdout",
     "output_type": "stream",
     "text": [
      "channel\n",
      "   human_channel   freq  phys  sub   station\n",
      "0           36.1   8vsb    36    1   KWSD-TV\n",
      "1           14.1   8vsb    32    3      Dabl\n",
      "2           14.2   8vsb    32    4   Charge!\n",
      "3           14.3   8vsb    32    5     Comet\n",
      "4           14.4   8vsb    32    6   Stadium\n",
      "hello\n",
      "b'hdhomerun device 103AF69D found at 192.168.0.50\\n'\n",
      "103AF69D\n",
      "36.1, 8vsb, 36, 1, KWSD-TV\n",
      "46.1, 8vsb, 21, 3, KDLT-TV\n",
      "46.2, 8vsb, 21, 4, FOX\n",
      "46.3, 8vsb, 21, 5, Antenna\n",
      "46.4, 8vsb, 21, 6, Cozi\n",
      "46.5, 8vsb, 21, 7, Court\n",
      "4.1, 8vsb, 14, 1, KTIVNBC\n",
      "4.2, 8vsb, 14, 2, KTIVCW\n",
      "4.3, 8vsb, 14, 3, KTIVME\n",
      "4.4, 8vsb, 14, 4, CourtTV\n",
      "4.5, 8vsb, 14, 5, Ion\n",
      "13.1, 8vsb, 13, 3, KSFY-TV\n",
      "13.2, 8vsb, 13, 4, CW\n",
      "13.3, 8vsb, 13, 5, MeTV\n",
      "13.4, 8vsb, 13, 6, T-Crime\n",
      "13.5, 8vsb, 13, 7, Grio\n",
      "11.1, 8vsb, 11, 3, KELO\n",
      "11.2, 8vsb, 11, 4, UTV\n",
      "11.3, 8vsb, 11, 5, ION\n",
      "11.4, 8vsb, 11, 6, Escape\n",
      "7.1, 8vsb, 7, 3, KTTW-HD\n",
      "7.2, 8vsb, 7, 4, ThisTV\n",
      "7.3, 8vsb, 7, 5, SBN\n",
      "7.4, 8vsb, 7, 6, LAFF\n",
      "7.5, 8vsb, 7, 7, Bounce\n",
      "7.6, 8vsb, 7, 8, Grit\n",
      "7.7, 8vsb, 7, 9, DEFY\n",
      "7.8, 8vsb, 7, 10, TrReal\n",
      "7.9, 8vsb, 7, 11, NEWSY\n",
      "7.10, 8vsb, 7, 12, Quest\n",
      "7.11, 8vsb, 7, 13, Twist\n",
      "human_channel, freq, phys, sub, station\n"
     ]
    }
   ],
   "source": [
    "from classes import CHANNEL\n",
    "\n",
    "c = CHANNEL()\n",
    "\n",
    "c.scan()"
   ]
  },
  {
   "cell_type": "code",
   "execution_count": 2,
   "id": "aa2371ec",
   "metadata": {},
   "outputs": [
    {
     "name": "stdout",
     "output_type": "stream",
     "text": [
      "human_channel,freq,phys,sub,station\n",
      "36.1, 8vsb, 36, 1, KWSD-TV\n",
      "46.1, 8vsb, 21, 3, KDLT-TV\n",
      "46.2, 8vsb, 21, 4, FOX\n",
      "46.3, 8vsb, 21, 5, Antenna\n",
      "46.4, 8vsb, 21, 6, Cozi\n",
      "46.5, 8vsb, 21, 7, Court\n",
      "4.1, 8vsb, 14, 1, KTIVNBC\n",
      "4.2, 8vsb, 14, 2, KTIVCW\n",
      "4.3, 8vsb, 14, 3, KTIVME\n",
      "4.4, 8vsb, 14, 4, CourtTV\n",
      "4.5, 8vsb, 14, 5, Ion\n",
      "13.1, 8vsb, 13, 3, KSFY-TV\n",
      "13.2, 8vsb, 13, 4, CW\n",
      "13.3, 8vsb, 13, 5, MeTV\n",
      "13.4, 8vsb, 13, 6, T-Crime\n",
      "13.5, 8vsb, 13, 7, Grio\n",
      "11.1, 8vsb, 11, 3, KELO\n",
      "11.2, 8vsb, 11, 4, UTV\n",
      "11.3, 8vsb, 11, 5, ION\n",
      "11.4, 8vsb, 11, 6, Escape\n",
      "7.1, 8vsb, 7, 3, KTTW-HD\n",
      "7.2, 8vsb, 7, 4, ThisTV\n",
      "7.3, 8vsb, 7, 5, SBN\n",
      "7.4, 8vsb, 7, 6, LAFF\n",
      "7.5, 8vsb, 7, 7, Bounce\n",
      "7.6, 8vsb, 7, 8, Grit\n",
      "7.7, 8vsb, 7, 9, DEFY\n",
      "7.8, 8vsb, 7, 10, TrReal\n",
      "7.9, 8vsb, 7, 11, NEWSY\n",
      "7.10, 8vsb, 7, 12, Quest\n",
      "7.11, 8vsb, 7, 13, Twist\n"
     ]
    }
   ],
   "source": [
    "! cat channels.csv"
   ]
  },
  {
   "cell_type": "code",
   "execution_count": null,
   "id": "bc6ab3a4",
   "metadata": {},
   "outputs": [],
   "source": []
  }
 ],
 "metadata": {
  "kernelspec": {
   "display_name": "Python 3 (ipykernel)",
   "language": "python",
   "name": "python3"
  },
  "language_info": {
   "codemirror_mode": {
    "name": "ipython",
    "version": 3
   },
   "file_extension": ".py",
   "mimetype": "text/x-python",
   "name": "python",
   "nbconvert_exporter": "python",
   "pygments_lexer": "ipython3",
   "version": "3.10.8"
  }
 },
 "nbformat": 4,
 "nbformat_minor": 5
}
